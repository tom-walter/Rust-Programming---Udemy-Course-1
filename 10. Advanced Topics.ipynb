{
 "cells": [
  {
   "cell_type": "markdown",
   "metadata": {},
   "source": [
    "## 10. Advanced Topics\n",
    "### 10.1 Circular References\n",
    "\n",
    "Description\n",
    "* in some languages, such as C# or Java, circular references are easy\n",
    "* but in Rust, they are complicated because of the borrow checker & object lifetime(s) \n",
    "* a circular reference occures when two functions call on each other\n",
    "  * if there is a bad implementation (i.e. no termination condition), then the code could run in a infinite loop\n",
    "\n",
    "Example\n",
    "* imagine a class-scheduling programm: where each student can take multiple courses and a course can have multiple students\n",
    "  * a user will want to 1) call a student to see what courses they are enrolled in and 2) call a course to see which students are attending it\n",
    "  * there relationship is n:n\n",
    "  * `struct Student` and `struct Course` will need to have the same lifetime \n",
    "\n",
    "<p align=\"center\"><img src=\"circular_reference_example.png\" ></p>\n",
    "\n",
    "Solution \n",
    "* however, circular referencing and borrowing of lifetimes is not recommended (as native references are static)\n",
    "* using the reference counter `std::rc::Rc` and the reference cell `std:cell::RefCell`, we can implement this\n",
    "* the [RefCell](https://doc.rust-lang.org/std/cell/index.html#refcellt) provides \"dynamic borrowing\" \n",
    "* immutable references can be called from `RefCell` with `.borrow()` and mutuable ones with `-borrow_mut()`\n",
    "*\n"
   ]
  },
  {
   "cell_type": "markdown",
   "metadata": {},
   "source": [
    "```Rust\n",
    "// circular implementation with generic lifetimes\n",
    "// this is not going to work in Rust\n",
    "\n",
    "struct Student<'a>{\n",
    "    name: String,\n",
    "    courses: Vec<&'a Course<'a>>\n",
    "}\n",
    "\n",
    "impl<'a> Student<'a>{\n",
    "    fn new(name: &str) -> Student<'a>{\n",
    "        Student(name: name.into(), courses: Vec::new())}\n",
    "}\n",
    "\n",
    "struct Course<'a>{\n",
    "    name: String,\n",
    "    students: Vec<&'a Student<'a>>\n",
    "}\n",
    "\n",
    "impl<'a> Course<'a>{\n",
    "    fn new(name: &str) -> Course<'a>{\n",
    "        Course(name: name.into(), students: Vec::new())}\n",
    "    fn add_student(&'a mut self, student:&'a mut Student<'a>){\n",
    "        student.courses.push(self);\n",
    "        self.students.push(student);\n",
    "    }\n",
    "}\n",
    "```"
   ]
  },
  {
   "cell_type": "code",
   "execution_count": 2,
   "metadata": {
    "vscode": {
     "languageId": "rust"
    }
   },
   "outputs": [],
   "source": [
    "use std::rc::Rc;\n",
    "use std::cell::RefCell;\n",
    "\n",
    "struct Student {\n",
    "    name: String,\n",
    "    courses: Vec<Rc<RefCell<Course>>>\n",
    "}\n",
    "\n",
    "impl Student {\n",
    "    fn new(name: &str) -> Student{\n",
    "        Student{name: name.into(), courses: Vec::new(),}\n",
    "    }\n",
    "}\n",
    " \n",
    "struct Course {\n",
    "    name: String,\n",
    "    students: Vec<Rc<RefCell<Student>>>\n",
    "}\n",
    "\n",
    "impl Course {\n",
    "    fn new(name: &str) -> Course{\n",
    "        Course{name: name.into(), students: Vec::new(),}\n",
    "    }\n",
    "\n",
    "    fn add_student(course: Rc<RefCell<Course>>, student: Rc<RefCell<Student>>){\n",
    "        student.borrow_mut().courses.push(course.clone());\n",
    "        course.borrow_mut().students.push(student);\n",
    "    }\n",
    "}"
   ]
  },
  {
   "cell_type": "code",
   "execution_count": 3,
   "metadata": {
    "vscode": {
     "languageId": "rust"
    }
   },
   "outputs": [
    {
     "data": {
      "text/plain": [
       "()"
      ]
     },
     "execution_count": 3,
     "metadata": {},
     "output_type": "execute_result"
    }
   ],
   "source": [
    "fn circular_demo(){\n",
    "    let john = Rc::new(RefCell::new(Student::new(\"John\")));\n",
    "\n",
    "    let math = Course::new(\"Math\");\n",
    "    let magic_course = Rc::new(RefCell::new(math));\n",
    "\n",
    "    Course::add_student(magic_course, john);\n",
    "}\n",
    "\n",
    "circular_demo()"
   ]
  }
 ],
 "metadata": {
  "kernelspec": {
   "display_name": "Rust",
   "language": "rust",
   "name": "rust"
  },
  "language_info": {
   "codemirror_mode": "rust",
   "file_extension": ".rs",
   "mimetype": "text/rust",
   "name": "Rust",
   "pygment_lexer": "rust",
   "version": ""
  },
  "orig_nbformat": 4
 },
 "nbformat": 4,
 "nbformat_minor": 2
}
