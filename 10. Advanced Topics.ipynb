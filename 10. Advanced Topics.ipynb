{
 "cells": [
  {
   "cell_type": "markdown",
   "metadata": {},
   "source": [
    "## 10. Advanced Topics\n",
    "### 10.1 Circular References\n",
    "#### Context\n",
    "\n",
    "Description\n",
    "* in some languages, such as C# or Java, circular references are easy\n",
    "* but in Rust, they are complicated because of the borrow checker & object lifetime(s) \n",
    "* a circular reference occures when two functions call on each other\n",
    "  * if there is a bad implementation (i.e. no termination condition), then the code could run in a infinite loop\n",
    "\n",
    "Example\n",
    "* imagine a class-scheduling programm: where each student can take multiple courses and a course can have multiple students\n",
    "  * a user will want to 1) call a student to see what courses they are enrolled in and 2) call a course to see which students are attending it\n",
    "  * there relationship is n:n\n",
    "  * `struct Student` and `struct Course` will need to have the same lifetime \n",
    "\n",
    "<p align=\"center\"><img src=\"circular_reference_example.png\" ></p>"
   ]
  },
  {
   "cell_type": "markdown",
   "metadata": {},
   "source": [
    "#### Non-Working Example\n",
    "\n",
    "```Rust\n",
    "// circular implementation with generic lifetimes\n",
    "// this is not going to work in Rust\n",
    "\n",
    "struct Student<'a>{\n",
    "    name: String,\n",
    "    courses: Vec<&'a Course<'a>>\n",
    "}\n",
    "\n",
    "impl<'a> Student<'a>{\n",
    "    fn new(name: &str) -> Student<'a>{\n",
    "        Student(name: name.into(), courses: Vec::new())}\n",
    "}\n",
    "\n",
    "struct Course<'a>{\n",
    "    name: String,\n",
    "    students: Vec<&'a Student<'a>>\n",
    "}\n",
    "\n",
    "impl<'a> Course<'a>{\n",
    "    fn new(name: &str) -> Course<'a>{\n",
    "        Course(name: name.into(), students: Vec::new())}\n",
    "    fn add_student(&'a mut self, student:&'a mut Student<'a>){\n",
    "        student.courses.push(self);\n",
    "        self.students.push(student);\n",
    "    }\n",
    "}\n",
    "```"
   ]
  },
  {
   "cell_type": "markdown",
   "metadata": {},
   "source": [
    "#### `RefCell` Solution \n",
    "* however, circular referencing and borrowing of lifetimes is not recommended (as native references are static)\n",
    "* using the reference counter `std::rc::Rc` and the reference cell `std:cell::RefCell`, we can implement this\n",
    "* the [RefCell](https://doc.rust-lang.org/std/cell/index.html#refcellt) provides \"dynamic borrowing\" \n",
    "* immutable references can be called from `RefCell` with `.borrow()` and mutuable ones with `-borrow_mut()`\n",
    "* but we are losing the static borrow checks during compulation, but only we have some run-time checks"
   ]
  },
  {
   "cell_type": "code",
   "execution_count": 2,
   "metadata": {
    "vscode": {
     "languageId": "rust"
    }
   },
   "outputs": [],
   "source": [
    "use std::rc::Rc;\n",
    "use std::cell::RefCell;\n",
    "\n",
    "struct Student {\n",
    "    name: String,\n",
    "    courses: Vec<Rc<RefCell<Course>>>\n",
    "}\n",
    "\n",
    "impl Student {\n",
    "    fn new(name: &str) -> Student{\n",
    "        Student{name: name.into(), courses: Vec::new(),}\n",
    "    }\n",
    "}\n",
    " \n",
    "struct Course {\n",
    "    name: String,\n",
    "    students: Vec<Rc<RefCell<Student>>>\n",
    "}\n",
    "\n",
    "impl Course {\n",
    "    fn new(name: &str) -> Course{\n",
    "        Course{name: name.into(), students: Vec::new(),}\n",
    "    }\n",
    "\n",
    "    fn add_student(course: Rc<RefCell<Course>>, student: Rc<RefCell<Student>>){\n",
    "        student.borrow_mut().courses.push(course.clone());\n",
    "        course.borrow_mut().students.push(student);\n",
    "    }\n",
    "}"
   ]
  },
  {
   "cell_type": "code",
   "execution_count": 3,
   "metadata": {
    "vscode": {
     "languageId": "rust"
    }
   },
   "outputs": [
    {
     "data": {
      "text/plain": [
       "()"
      ]
     },
     "execution_count": 3,
     "metadata": {},
     "output_type": "execute_result"
    }
   ],
   "source": [
    "fn circular_demo(){\n",
    "    let john = Rc::new(RefCell::new(Student::new(\"John\")));\n",
    "\n",
    "    let math = Course::new(\"Math\");\n",
    "    let magic_course = Rc::new(RefCell::new(math));\n",
    "\n",
    "    Course::add_student(magic_course, john);\n",
    "}\n",
    "\n",
    "circular_demo()"
   ]
  },
  {
   "cell_type": "markdown",
   "metadata": {},
   "source": [
    "#### Normalization Solution\n",
    "* when working with databases, n:n relations and circular references are avoided by creating an intermediary table that connects the pair of previous entities\n",
    "* this is called normalization\n",
    "* for our example, this means\n",
    "  * the `struct Student` only holds a student's name\n",
    "  * the `struct Course` only holds a course's name\n",
    "  * the `struct Enrollment` holds a pair of student and course\n",
    "  * the `struct Platform` that adds and tracks the enrollments \n",
    "* here, we need to pay attention again to lifetimes though"
   ]
  },
  {
   "cell_type": "code",
   "execution_count": 2,
   "metadata": {
    "vscode": {
     "languageId": "rust"
    }
   },
   "outputs": [],
   "source": [
    "struct Student{name: String}\n",
    "struct Course{name: String}\n",
    "\n",
    "struct Enrollment<'a>{\n",
    "    // enrollment pairing\n",
    "    student: &'a Student,\n",
    "    course: &'a Course\n",
    "}\n",
    "\n",
    "impl<'a> Enrollment<'a> {\n",
    "    fn new(student: &'a Student, course: &'a Course) -> Enrollment<'a>\n",
    "    {\n",
    "        Enrollment{student, course}\n",
    "    }\n",
    "}\n",
    "\n",
    "struct Platform<'a> {\n",
    "    // platform to track enrollments\n",
    "    enrollments: Vec<Enrollment<'a>>\n",
    "}\n",
    "\n",
    "impl<'a> Platform<'a> {\n",
    "    // create new platform\n",
    "    fn new() -> Platform<'a>{\n",
    "        Platform {enrollments: Vec::new()}\n",
    "    }\n",
    "    // adding a enrollment\n",
    "    fn enroll(&mut self, student: &'a Student, course: &'a Course){\n",
    "        self.enrollments.push(Enrollment::new(student, course))\n",
    "    }\n",
    "}\n",
    "\n",
    "impl Student {\n",
    "    fn get_courses(&self, platform: Platform) -> Vec<String>{\n",
    "        platform.enrollments.iter()\n",
    "            // from all enrollments find this student\n",
    "            .filter(|&e| e.student.name == self.name)\n",
    "            // copy all of their courses\n",
    "            .map(|e| e.course.name.clone())\n",
    "            // put the courses into vector\n",
    "            .collect() \n",
    "    }\n",
    "}"
   ]
  },
  {
   "cell_type": "code",
   "execution_count": 3,
   "metadata": {
    "vscode": {
     "languageId": "rust"
    }
   },
   "outputs": [
    {
     "name": "stdout",
     "output_type": "stream",
     "text": [
      "John is taking Math classes.\n",
      "John is taking English classes.\n"
     ]
    },
    {
     "data": {
      "text/plain": [
       "()"
      ]
     },
     "execution_count": 3,
     "metadata": {},
     "output_type": "execute_result"
    }
   ],
   "source": [
    "fn normalization_demo(){\n",
    "    let john = Student{name: \"John\".into()};\n",
    "    let math = Course{name: \"Math\".into()};\n",
    "    let eng = Course{name: \"English\".into()};\n",
    "\n",
    "    let mut plat = Platform::new();\n",
    "    plat.enroll(&john, &math); \n",
    "    plat.enroll(&john, &eng);\n",
    "\n",
    "    for c in john.get_courses(plat){\n",
    "        println!(\"{} is taking {} classes.\", john.name, c);\n",
    "    }\n",
    "}\n",
    "\n",
    "normalization_demo()"
   ]
  }
 ],
 "metadata": {
  "kernelspec": {
   "display_name": "Rust",
   "language": "rust",
   "name": "rust"
  },
  "language_info": {
   "codemirror_mode": "rust",
   "file_extension": ".rs",
   "mimetype": "text/rust",
   "name": "Rust",
   "pygment_lexer": "rust",
   "version": ""
  },
  "orig_nbformat": 4
 },
 "nbformat": 4,
 "nbformat_minor": 2
}
