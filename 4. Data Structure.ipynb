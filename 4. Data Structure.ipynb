{
 "cells": [
  {
   "cell_type": "markdown",
   "metadata": {},
   "source": [
    "## 3. Data Structures\n",
    "### 3.1 Structs\n",
    "\n",
    "* while coding, we want to\n",
    "  * keep data together that belongs together\n",
    "  * model real-world entities with their attributes\n",
    "* the keyword `struct` lets us build custom data structures\n",
    "  * this can help us define interfaces for functions\n",
    "  * or create more complicated data classes\n",
    "* exercise:\n",
    "  * build a `Point` struct consisting of an x- and y-coordinate\n",
    "  * build a `Line` struct consisting of a start- and end-point "
   ]
  },
  {
   "cell_type": "code",
   "execution_count": 4,
   "metadata": {
    "vscode": {
     "languageId": "rust"
    }
   },
   "outputs": [
    {
     "name": "stdout",
     "output_type": "stream",
     "text": [
      "point p is at (3, 2)\n"
     ]
    },
    {
     "data": {
      "text/plain": [
       "()"
      ]
     },
     "execution_count": 4,
     "metadata": {},
     "output_type": "execute_result"
    }
   ],
   "source": [
    "#[allow(dead_code)]\n",
    "#[allow(unused_variables)]\n",
    "\n",
    "struct Point{\n",
    "    // a point with x & y coordinate\n",
    "    x: f64,\n",
    "    y: f64\n",
    "}\n",
    "\n",
    "struct Line{\n",
    "    start: Point,\n",
    "    end: Point\n",
    "}\n",
    "\n",
    "fn structures(){\n",
    "    let p1 = Point{x: 3.0, y: 2.0};\n",
    "    println!(\"point p is at ({}, {})\", p1.x, p1.y);\n",
    "\n",
    "    let p2 = Point{x: 5.0, y: 10.0};\n",
    "    let myline = Line{start: p1, end: p2};\n",
    "}\n",
    "\n",
    "structures()"
   ]
  },
  {
   "cell_type": "markdown",
   "metadata": {},
   "source": [
    "### 3.2 Enumerations (Enums)\n",
    "\n",
    "* an enumerated type is a data type consisting of a set of named values called elements, members or enumeral\n",
    "* the keyword `enum` helps us to model several discrete states\n"
   ]
  },
  {
   "cell_type": "code",
   "execution_count": 7,
   "metadata": {
    "vscode": {
     "languageId": "rust"
    }
   },
   "outputs": [
    {
     "name": "stdout",
     "output_type": "stream",
     "text": [
      "black\n"
     ]
    },
    {
     "data": {
      "text/plain": [
       "()"
      ]
     },
     "execution_count": 7,
     "metadata": {},
     "output_type": "execute_result"
    }
   ],
   "source": [
    "enum Color{\n",
    "    Red,\n",
    "    Green,\n",
    "    Blue,\n",
    "    RGBColor(u8, u8, u8)  // tuple\n",
    "}\n",
    "\n",
    "fn match_color(){\n",
    "    let c:Color = Color::RGBColor(0, 0, 0);\n",
    "\n",
    "    match c {\n",
    "        Color::Red => println!(\"r\"),\n",
    "        Color::Green => println!(\"g\"),\n",
    "        Color::Blue => println!(\"b\"),\n",
    "        Color::RGBColor(0,0,0) => println!(\"black\"),\n",
    "        Color::RGBColor(r,g,b) => println!(\"rgb ({}, {}, {})\", r,g,b),\n",
    "    }\n",
    "}\n",
    "\n",
    "match_color()"
   ]
  },
  {
   "cell_type": "markdown",
   "metadata": {},
   "source": [
    "### 3.3 Unions\n",
    "\n",
    "* unions are data structures common in C and C++\n",
    "* they are used to allocate memory for multiple data types\n",
    "  * they are build with the keyword `union`\n",
    "  * for instance, create a generic numerical data type\n",
    "* when working with union data types, defined by other packages\n",
    "  * we (and the compiler) don't know which data type is actually assigned to the variable\n",
    "  * use the `unsafe` macro to access the value without forcibly recasting it\n",
    "  * likewise, pattern matching has to use the `unsafe` to process `union`s \n",
    "* `union`s are a bit inconvenient when used on their own\n",
    "  * they are used for inter-operating with C or C++\n",
    "  * when this inter-operability is not required, it is recommended to use `enum`s\n"
   ]
  },
  {
   "cell_type": "code",
   "execution_count": 17,
   "metadata": {
    "vscode": {
     "languageId": "rust"
    }
   },
   "outputs": [
    {
     "name": "stdout",
     "output_type": "stream",
     "text": [
      "iof.i = 234\n",
      "value = 32.01\n",
      "value = 0.000000000000000000000000000000000000000000007\n",
      "Meaning of Life\n"
     ]
    }
   ],
   "source": [
    "union IntOrFloat{\n",
    "    i: i32,\n",
    "    f: f32\n",
    "}\n",
    "\n",
    "fn make_unions(){\n",
    "    let mut iof = IntOrFloat {i: 123} ;\n",
    "    iof.i = 234;\n",
    "\n",
    "    let value = unsafe { iof.i };\n",
    "    println!(\"iof.i = {}\", value);\n",
    "}\n",
    "\n",
    "fn process_value(iof: IntOrFloat){\n",
    "    unsafe{\n",
    "        match iof{\n",
    "            IntOrFloat {i: 42} => {println!(\"Meaning of Life\");}\n",
    "            IntOrFloat {f} => {println!(\"value = {}\", f);}\n",
    "        }\n",
    "    }\n",
    "}\n",
    "\n",
    "make_unions();\n",
    "process_value(IntOrFloat {i: 42});\n",
    "process_value(IntOrFloat {f: 32.01});\n",
    "process_value(IntOrFloat {i: 5});"
   ]
  },
  {
   "cell_type": "markdown",
   "metadata": {},
   "source": [
    "### 3.4 `Option<T>` and `if let` / `while let`\n",
    "\n",
    "* an `OPtion<T>` data type can either have `Some` value assigned or `None` assigned\n",
    "* if a variable is typed as without `Option`, it must always be assigned a value\n",
    "* example:\n",
    "  * build division function `quotient = dividend ÷ divisor`, where the divisor is zero\n",
    "* thus, a result can also be optional in character \n",
    "  * we can use the keywords `if let`, a variable will only be created there is `Some` value\n",
    "  * likewise, a loop can also be conditioned to run until a value is assigned with `None`"
   ]
  },
  {
   "cell_type": "code",
   "execution_count": 6,
   "metadata": {
    "vscode": {
     "languageId": "rust"
    }
   },
   "outputs": [
    {
     "name": "stdout",
     "output_type": "stream",
     "text": [
      "3 ÷ 0.1 = 30\n",
      "quotient = 30\n"
     ]
    },
    {
     "data": {
      "text/plain": [
       "()"
      ]
     },
     "execution_count": 6,
     "metadata": {},
     "output_type": "execute_result"
    }
   ],
   "source": [
    "fn division_function() {\n",
    "    let dividend = 3.0;\n",
    "    let divisor = 0.1;\n",
    "\n",
    "    let quotient: Option<f64> = if divisor != 0.0 { Some(dividend / divisor) } else { None };\n",
    "\n",
    "    match quotient {\n",
    "        Some(z) => println!(\"{} ÷ {} = {}\", dividend, divisor, z),\n",
    "        None => println!(\"cannot divide {} by {}\", dividend, divisor),\n",
    "    }\n",
    "\n",
    "    if let Some(z) = quotient {\n",
    "        println!(\"quotient = {}\", z);\n",
    "    }\n",
    "}\n",
    "\n",
    "division_function()"
   ]
  },
  {
   "cell_type": "markdown",
   "metadata": {},
   "source": [
    "### 3.5 Arrays\n",
    "\n",
    "* arrays are fundamental building block of any programming language\n",
    "  * are a list that keep several value (of the same type) bundled together and build with `[]`\n",
    "  * can be typed with data type they will contain and the number of elements (but don't need to)\n",
    "  * an entire array can be printed to console with formatting `\"{:?}\"`\n",
    "* elements can accessed by their index and rust arrays are 0-indexed\n",
    "  * elements in a mutable array can be changed at their index\n",
    "* arrays can be bulk with while declared using semi-colon\n",
    "* nested arrays give us matrices ord multidimensional arrays\n",
    "* matrix always a fixed sized and cannot be resized "
   ]
  },
  {
   "cell_type": "code",
   "execution_count": 22,
   "metadata": {
    "vscode": {
     "languageId": "rust"
    }
   },
   "outputs": [
    {
     "name": "stdout",
     "output_type": "stream",
     "text": [
      "array a has 5 elements, first is 1\n",
      "array b has 10 elements, they are [1, 1, 1, 1, 1, 1, 1, 1, 1, 1]\n",
      "b took up 20 bytes\n",
      "matrix contains [[1, 2, 3], [4, 5, 6]]\n",
      "array a consists of [1, 2, 3, 4, 5]\n"
     ]
    },
    {
     "data": {
      "text/plain": [
       "()"
      ]
     },
     "execution_count": 22,
     "metadata": {},
     "output_type": "execute_result"
    }
   ],
   "source": [
    "use std::mem;\n",
    "\n",
    "fn array_demo(){\n",
    "\n",
    "    // simhple array\n",
    "    let mut a:[i32;5] = [1, 2, 3, 4, 5]; \n",
    "    println!(\"array a has {} elements, first is {}\", a.len(), a[0]);\n",
    "    println!(\"array a consists of {:?}\", a);\n",
    "\n",
    "    // bulk fill with 1s\n",
    "    let b = [1u16; 10];\n",
    "    println!(\"array b has {} elements, they are {:?}\", b.len(), b);\n",
    "    println!(\"b took up {} bytes\", mem::size_of_val(&b));\n",
    "\n",
    "    // multi-dimensional arrays\n",
    "    let matrix:[[u32;3]; 2] = [[1, 2, 3], [4, 5, 6]];\n",
    "    println!(\"matrix contains {:?}\", matrix);\n",
    "\n",
    "}\n",
    "\n",
    "array_demo();"
   ]
  },
  {
   "cell_type": "markdown",
   "metadata": {},
   "source": [
    "### 3.6 Slices\n",
    "\n",
    "* slices differ from arrays\n",
    "  * arrays have a fixed sized\n",
    "  * slices have unknown size at runtime\n",
    "* the ampersand `&` lets us borrow from an array\n",
    "* arrays can be sliced with range operator because indices are integers\n",
    "* slices of arrays can be manipulated if the array is mutable and the slice is mutable \n"
   ]
  },
  {
   "cell_type": "code",
   "execution_count": 25,
   "metadata": {
    "vscode": {
     "languageId": "rust"
    }
   },
   "outputs": [
    {
     "name": "stdout",
     "output_type": "stream",
     "text": [
      "first elem is 2, len = 3\n",
      "first elem is 1, len = 5\n",
      "data after slice use = [420, 420, 3, 4, 5]\n"
     ]
    }
   ],
   "source": [
    "fn use_slice(slice: &mut [i32]) {\n",
    "    println!(\"first elem is {}, len = {}\", slice[0], slice.len());\n",
    "    slice[0] = 420;\n",
    "\n",
    "    // will crash\n",
    "    //let z = slice[10];\n",
    "}\n",
    "\n",
    "fn slice_demo() {\n",
    "    // a slice is part of an array\n",
    "    // its size is not known at compile time\n",
    "    let mut data = [1, 2, 3, 4, 5];\n",
    "\n",
    "    // start w/o mut, borrow as a slice\n",
    "    use_slice(&mut data[1..4]);\n",
    "    use_slice(&mut data); // entire array\n",
    "\n",
    "    println!(\"data after slice use = {:?}\", data);\n",
    "}\n",
    "\n",
    "slice_demo();"
   ]
  },
  {
   "cell_type": "markdown",
   "metadata": {},
   "source": [
    "### 3.7 Tuples"
   ]
  },
  {
   "cell_type": "markdown",
   "metadata": {},
   "source": [
    "### 3.8 Pattern Matching"
   ]
  },
  {
   "cell_type": "markdown",
   "metadata": {},
   "source": [
    "### 3.9 Generics"
   ]
  }
 ],
 "metadata": {
  "kernelspec": {
   "display_name": "Rust",
   "language": "rust",
   "name": "rust"
  },
  "language_info": {
   "codemirror_mode": "rust",
   "file_extension": ".rs",
   "mimetype": "text/rust",
   "name": "Rust",
   "pygment_lexer": "rust",
   "version": ""
  },
  "orig_nbformat": 4
 },
 "nbformat": 4,
 "nbformat_minor": 2
}
