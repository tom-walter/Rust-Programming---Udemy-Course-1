{
 "cells": [
  {
   "cell_type": "markdown",
   "metadata": {},
   "source": [
    "## 3. Data Structures\n",
    "### 3.1 Structs\n",
    "\n",
    "* while coding, we want to\n",
    "  * keep data together that belongs together\n",
    "  * model real-world entities with their attributes\n",
    "* the keyword `struct` lets us build custom data structures\n",
    "  * this can help us define interfaces for functions\n",
    "  * or create more complicated data classes\n",
    "* exercise:\n",
    "  * build a `Point` struct consisting of an x- and y-coordinate\n",
    "  * build a `Line` struct consisting of a start- and end-point "
   ]
  },
  {
   "cell_type": "code",
   "execution_count": 4,
   "metadata": {
    "vscode": {
     "languageId": "rust"
    }
   },
   "outputs": [
    {
     "name": "stdout",
     "output_type": "stream",
     "text": [
      "point p is at (3, 2)\n"
     ]
    },
    {
     "data": {
      "text/plain": [
       "()"
      ]
     },
     "execution_count": 4,
     "metadata": {},
     "output_type": "execute_result"
    }
   ],
   "source": [
    "#[allow(dead_code)]\n",
    "#[allow(unused_variables)]\n",
    "\n",
    "struct Point{\n",
    "    // a point with x & y coordinate\n",
    "    x: f64,\n",
    "    y: f64\n",
    "}\n",
    "\n",
    "struct Line{\n",
    "    start: Point,\n",
    "    end: Point\n",
    "}\n",
    "\n",
    "fn structures(){\n",
    "    let p1 = Point{x: 3.0, y: 2.0};\n",
    "    println!(\"point p is at ({}, {})\", p1.x, p1.y);\n",
    "\n",
    "    let p2 = Point{x: 5.0, y: 10.0};\n",
    "    let myline = Line{start: p1, end: p2};\n",
    "}\n",
    "\n",
    "structures()"
   ]
  },
  {
   "cell_type": "markdown",
   "metadata": {},
   "source": [
    "### 3.2 Enumerations (Enums)\n",
    "\n",
    "* an enumerated type is a data type consisting of a set of named values called elements, members or enumeral\n",
    "* the keyword `enum` helps us to model several discrete states\n"
   ]
  },
  {
   "cell_type": "code",
   "execution_count": 7,
   "metadata": {
    "vscode": {
     "languageId": "rust"
    }
   },
   "outputs": [
    {
     "name": "stdout",
     "output_type": "stream",
     "text": [
      "black\n"
     ]
    },
    {
     "data": {
      "text/plain": [
       "()"
      ]
     },
     "execution_count": 7,
     "metadata": {},
     "output_type": "execute_result"
    }
   ],
   "source": [
    "enum Color{\n",
    "    Red,\n",
    "    Green,\n",
    "    Blue,\n",
    "    RGBColor(u8, u8, u8)  // tuple\n",
    "}\n",
    "\n",
    "fn match_color(){\n",
    "    let c:Color = Color::RGBColor(0, 0, 0);\n",
    "\n",
    "    match c {\n",
    "        Color::Red => println!(\"r\"),\n",
    "        Color::Green => println!(\"g\"),\n",
    "        Color::Blue => println!(\"b\"),\n",
    "        Color::RGBColor(0,0,0) => println!(\"black\"),\n",
    "        Color::RGBColor(r,g,b) => println!(\"rgb ({}, {}, {})\", r,g,b),\n",
    "    }\n",
    "}\n",
    "\n",
    "match_color()"
   ]
  },
  {
   "cell_type": "markdown",
   "metadata": {},
   "source": [
    "### 3.3 Unions\n",
    "\n",
    "* unions are data structures common in C and C++\n",
    "* they are used to allocate memory for multiple data types\n",
    "  * they are build with the keyword `union`\n",
    "  * for instance, create a generic numerical data type\n",
    "* when working with union data types, defined by other packages\n",
    "  * we (and the compiler) don't know which data type is actually assigned to the variable\n",
    "  * use the `unsafe` macro to access the value without forcibly recasting it\n",
    "  * likewise, pattern matching has to use the `unsafe` to process `union`s \n",
    "* `union`s are a bit inconvenient when used on their own\n",
    "  * they are used for inter-operating with C or C++\n",
    "  * when this inter-operability is not required, it is recommended to use `enum`s\n"
   ]
  },
  {
   "cell_type": "code",
   "execution_count": 17,
   "metadata": {
    "vscode": {
     "languageId": "rust"
    }
   },
   "outputs": [
    {
     "name": "stdout",
     "output_type": "stream",
     "text": [
      "iof.i = 234\n",
      "value = 32.01\n",
      "value = 0.000000000000000000000000000000000000000000007\n",
      "Meaning of Life\n"
     ]
    }
   ],
   "source": [
    "union IntOrFloat{\n",
    "    i: i32,\n",
    "    f: f32\n",
    "}\n",
    "\n",
    "fn make_unions(){\n",
    "    let mut iof = IntOrFloat {i: 123} ;\n",
    "    iof.i = 234;\n",
    "\n",
    "    let value = unsafe { iof.i };\n",
    "    println!(\"iof.i = {}\", value);\n",
    "}\n",
    "\n",
    "fn process_value(iof: IntOrFloat){\n",
    "    unsafe{\n",
    "        match iof{\n",
    "            IntOrFloat {i: 42} => {println!(\"Meaning of Life\");}\n",
    "            IntOrFloat {f} => {println!(\"value = {}\", f);}\n",
    "        }\n",
    "    }\n",
    "}\n",
    "\n",
    "make_unions();\n",
    "process_value(IntOrFloat {i: 42});\n",
    "process_value(IntOrFloat {f: 32.01});\n",
    "process_value(IntOrFloat {i: 5});"
   ]
  },
  {
   "cell_type": "markdown",
   "metadata": {},
   "source": [
    "### 3.4 `Option<T>` and `if let` / `while let`\n",
    "\n",
    "* an `OPtion<T>` data type can either have `Some` value assigned or `None` assigned\n",
    "* if a variable is typed as without `Option`, it must always be assigned a value\n",
    "* example:\n",
    "  * build division function `quotient = dividend ÷ divisor`, where the divisor is zero\n",
    "* thus, a result can also be optional in character \n",
    "  * we can use the keywords `if let`, a variable will only be created there is `Some` value\n",
    "  * likewise, a loop can also be conditioned to run until a value is assigned with `None`"
   ]
  },
  {
   "cell_type": "code",
   "execution_count": 6,
   "metadata": {
    "vscode": {
     "languageId": "rust"
    }
   },
   "outputs": [
    {
     "name": "stdout",
     "output_type": "stream",
     "text": [
      "3 ÷ 0.1 = 30\n",
      "quotient = 30\n"
     ]
    },
    {
     "data": {
      "text/plain": [
       "()"
      ]
     },
     "execution_count": 6,
     "metadata": {},
     "output_type": "execute_result"
    }
   ],
   "source": [
    "fn division_function() {\n",
    "    let dividend = 3.0;\n",
    "    let divisor = 0.1;\n",
    "\n",
    "    let quotient: Option<f64> = if divisor != 0.0 { Some(dividend / divisor) } else { None };\n",
    "\n",
    "    match quotient {\n",
    "        Some(z) => println!(\"{} ÷ {} = {}\", dividend, divisor, z),\n",
    "        None => println!(\"cannot divide {} by {}\", dividend, divisor),\n",
    "    }\n",
    "\n",
    "    if let Some(z) = quotient {\n",
    "        println!(\"quotient = {}\", z);\n",
    "    }\n",
    "}\n",
    "\n",
    "division_function()"
   ]
  },
  {
   "cell_type": "markdown",
   "metadata": {},
   "source": [
    "### 3.5 Arrays\n",
    "\n",
    "* arrays are fundamental building block of any programming language\n",
    "  * are a list that keep several value (of the same type) bundled together and build with `[]`\n",
    "  * can be typed with data type they will contain and the number of elements (but don't need to)\n",
    "  * an entire array can be printed to console with formatting `\"{:?}\"`\n",
    "* elements can accessed by their index and rust arrays are 0-indexed\n",
    "  * elements in a mutable array can be changed at their index\n",
    "* arrays can be bulk with while declared using semi-colon\n",
    "* nested arrays give us matrices ord multidimensional arrays\n",
    "* matrix always a fixed sized and cannot be resized "
   ]
  },
  {
   "cell_type": "code",
   "execution_count": 22,
   "metadata": {
    "vscode": {
     "languageId": "rust"
    }
   },
   "outputs": [
    {
     "name": "stdout",
     "output_type": "stream",
     "text": [
      "array a has 5 elements, first is 1\n",
      "array b has 10 elements, they are [1, 1, 1, 1, 1, 1, 1, 1, 1, 1]\n",
      "b took up 20 bytes\n",
      "matrix contains [[1, 2, 3], [4, 5, 6]]\n",
      "array a consists of [1, 2, 3, 4, 5]\n"
     ]
    },
    {
     "data": {
      "text/plain": [
       "()"
      ]
     },
     "execution_count": 22,
     "metadata": {},
     "output_type": "execute_result"
    }
   ],
   "source": [
    "use std::mem;\n",
    "\n",
    "fn array_demo(){\n",
    "\n",
    "    // simhple array\n",
    "    let mut a:[i32;5] = [1, 2, 3, 4, 5]; \n",
    "    println!(\"array a has {} elements, first is {}\", a.len(), a[0]);\n",
    "    println!(\"array a consists of {:?}\", a);\n",
    "\n",
    "    // bulk fill with 1s\n",
    "    let b = [1u16; 10];\n",
    "    println!(\"array b has {} elements, they are {:?}\", b.len(), b);\n",
    "    println!(\"b took up {} bytes\", mem::size_of_val(&b));\n",
    "\n",
    "    // multi-dimensional arrays\n",
    "    let matrix:[[u32;3]; 2] = [[1, 2, 3], [4, 5, 6]];\n",
    "    println!(\"matrix contains {:?}\", matrix);\n",
    "\n",
    "}\n",
    "\n",
    "array_demo();"
   ]
  },
  {
   "cell_type": "markdown",
   "metadata": {},
   "source": [
    "### 3.6 Slices\n",
    "\n",
    "* slices differ from arrays\n",
    "  * arrays have a fixed sized\n",
    "  * slices have unknown size at runtime\n",
    "* the ampersand `&` lets us borrow from an array\n",
    "* arrays can be sliced with range operator because indices are integers\n",
    "* slices of arrays can be manipulated if the array is mutable and the slice is mutable \n"
   ]
  },
  {
   "cell_type": "code",
   "execution_count": 25,
   "metadata": {
    "vscode": {
     "languageId": "rust"
    }
   },
   "outputs": [
    {
     "name": "stdout",
     "output_type": "stream",
     "text": [
      "first elem is 2, len = 3\n",
      "first elem is 1, len = 5\n",
      "data after slice use = [420, 420, 3, 4, 5]\n"
     ]
    }
   ],
   "source": [
    "fn use_slice(slice: &mut [i32]) {\n",
    "    println!(\"first elem is {}, len = {}\", slice[0], slice.len());\n",
    "    slice[0] = 420;\n",
    "\n",
    "    // will crash\n",
    "    //let z = slice[10];\n",
    "}\n",
    "\n",
    "fn slice_demo() {\n",
    "    // a slice is part of an array\n",
    "    // its size is not known at compile time\n",
    "    let mut data = [1, 2, 3, 4, 5];\n",
    "\n",
    "    // start w/o mut, borrow as a slice\n",
    "    use_slice(&mut data[1..4]);\n",
    "    use_slice(&mut data); // entire array\n",
    "\n",
    "    println!(\"data after slice use = {:?}\", data);\n",
    "}\n",
    "\n",
    "slice_demo();"
   ]
  },
  {
   "cell_type": "markdown",
   "metadata": {},
   "source": [
    "### 3.7 Tuples\n",
    "\n",
    "* we talked about making our own data structure with `Struct`\n",
    "* it can also be done a little simpler using tuples i.e. `()`\n",
    "* in a tuple (as opposed to an array), the data types can be different\n",
    "* elements in a tuple are accessed via dot `t.n`\n",
    "* tuple can also be destructured or unpacked intos its elements\n",
    "* inversely, tuples can also be nested into another\n",
    "* a tuple with single element needs to be created with a comma"
   ]
  },
  {
   "cell_type": "code",
   "execution_count": 11,
   "metadata": {
    "vscode": {
     "languageId": "rust"
    }
   },
   "outputs": [
    {
     "name": "stdout",
     "output_type": "stream",
     "text": [
      "sp = (7, 12)\n"
     ]
    },
    {
     "name": "stdout",
     "output_type": "stream",
     "text": [
      "a = 7, b = 12\n",
      "combined = ((7, 12), (11, 28))\n",
      "diff_elems = (true, 42.0, -1)\n",
      "meanings = (42,)\n",
      "sum = 7\n",
      "prod = 12\n"
     ]
    }
   ],
   "source": [
    "fn sum_and_prod(x:i32, y:i32) -> (i32, i32){\n",
    "    // creating a tuple output\n",
    "    (x+y, x*y)\n",
    "}\n",
    "\n",
    "\n",
    "fn tuples_demo(){\n",
    "    let x = 3;\n",
    "    let y = 4;\n",
    "    let sp = sum_and_prod(x, y);\n",
    "\n",
    "    // printing tuple with debug\n",
    "    println!(\"sp = {:?}\", sp);\n",
    "\n",
    "    // accessing tuple elements\n",
    "    println!(\"sum = {}\", sp.0);\n",
    "    println!(\"prod = {}\", sp.1);\n",
    "\n",
    "    // destructuring\n",
    "    let (a, b) = sp;\n",
    "    println!(\"a = {}, b = {}\", a, b);\n",
    "\n",
    "    // tuple of tuples\n",
    "    let sp2 = sum_and_prod(4, 7);\n",
    "    let combined = (sp, sp2);\n",
    "    println!(\"combined = {:?}\", combined);\n",
    "\n",
    "    // tuple of different elements\n",
    "    let diff_elems = (true, 42.0, -1i8);\n",
    "    println!(\"diff_elems = {:?}\", diff_elems);\n",
    "\n",
    "    // tuple of a single element\n",
    "    let meanings = (42,); // start w/o comma\n",
    "    println!(\"meanings = {:?}\", meanings);\n",
    "}\n",
    "\n",
    "\n",
    "tuples_demo();"
   ]
  },
  {
   "cell_type": "markdown",
   "metadata": {},
   "source": [
    "### 3.8 Pattern Matching\n",
    "\n",
    "__More matching__\n",
    "* here, we will expand on the keyword `match` and its functionalities\n",
    "* _order matters_: the first case that gets matched, gets returned\n",
    "* a vertical line `|` works as logical OR, so you can match mutliple cases at once\n",
    "* ranges can also be used as cases: `..=` is an inclusive range\n",
    "* also `if` conditions can be used as cases\n"
   ]
  },
  {
   "cell_type": "code",
   "execution_count": 24,
   "metadata": {
    "vscode": {
     "languageId": "rust"
    }
   },
   "outputs": [
    {
     "name": "stdout",
     "output_type": "stream",
     "text": [
      "0: I have no oranges.\n",
      "5: I have a few oranges.\n",
      "9: I have lots of oranges.\n",
      "12: I have dozen oranges.\n",
      "10: I have lots of oranges.\n",
      "\n",
      "11: I have lots of oranges.\n",
      "\n",
      "y axis, x = 3\n",
      "8: I have some oranges.\n",
      "7: I have a few oranges.\n",
      "6: I have some oranges.\n",
      "2: I have one or two oranges.\n",
      "1: I have one or two oranges.\n",
      "3: I have a few oranges.\n",
      "4: I have some oranges.\n"
     ]
    }
   ],
   "source": [
    "fn how_many(x:i32) ->&'static str{\n",
    "    match x \n",
    "    {\n",
    "        0 => \"no\",\n",
    "        1 | 2 => \"one or two\",\n",
    "        9..=11 => \"lots of\",\n",
    "        12 => \"dozen\",\n",
    "        _ if (x % 2 == 0) => \"some\",\n",
    "        _ => \"a few\",\n",
    "    }\n",
    "}\n",
    "\n",
    "fn pattern_matching(){\n",
    "    for x in 0..13\n",
    "    {\n",
    "        println!(\"{}: I have {} oranges.\", x, how_many(x));\n",
    "    }\n",
    "}\n",
    "\n",
    "pattern_matching();"
   ]
  },
  {
   "cell_type": "markdown",
   "metadata": {},
   "source": [
    "__Tuple Matching__\n",
    "\n",
    "* the keyword `match` can also be used to match patterns of tuples\n",
    "* tuple matching must also be exhaustive\n",
    "* if a variables is not passed by value but be reference, use the keyword `ref`"
   ]
  },
  {
   "cell_type": "code",
   "execution_count": 31,
   "metadata": {
    "vscode": {
     "languageId": "rust"
    }
   },
   "outputs": [
    {
     "name": "stdout",
     "output_type": "stream",
     "text": [
      "origin\n",
      "x axis, y = 3\n",
      "(4,4)\n",
      "y axis, x = 3\n"
     ]
    }
   ],
   "source": [
    "fn tuple_matching(x:i32, y:i32){\n",
    "    let point = (x, y);\n",
    "\n",
    "    match point {\n",
    "        (0, 0) => println!(\"origin\"),\n",
    "        (0, y) => println!(\"x axis, y = {}\", y),\n",
    "        // also try ref and ref mut\n",
    "        (ref x, 0) => println!(\"y axis, x = {}\", x),\n",
    "        (x, y) => println!(\"({},{})\", x, y),\n",
    "    }\n",
    "}\n",
    "\n",
    "tuple_matching(0, 0);\n",
    "tuple_matching(0, 3);\n",
    "tuple_matching(3, 0);\n",
    "tuple_matching(4, 4);"
   ]
  },
  {
   "cell_type": "markdown",
   "metadata": {},
   "source": [
    "### 3.9 Generics\n",
    "\n",
    "* previously, we created a `struct` called Point with 2 values of type `f64`\n",
    "* → but what if we want the values to be more generic?\n",
    "* we can use the type declartion `<T>` and re-implement Point and Line from before\n",
    "* when declaring variables with our generic struct, types can be declared or infered"
   ]
  },
  {
   "cell_type": "code",
   "execution_count": 35,
   "metadata": {
    "vscode": {
     "languageId": "rust"
    }
   },
   "outputs": [
    {
     "data": {
      "text/plain": [
       "()"
      ]
     },
     "execution_count": 35,
     "metadata": {},
     "output_type": "execute_result"
    }
   ],
   "source": [
    "struct Point<T> {\n",
    "    x: T,\n",
    "    y: T,\n",
    "}\n",
    "\n",
    "struct Line<T> {\n",
    "    start: Point<T>,\n",
    "    end: Point<T>,\n",
    "}\n",
    "\n",
    "fn generics_demo() {\n",
    "    // without type\n",
    "    let a = Point { x: 0.0, y: 0.0 };\n",
    "    let b = Point { x: 1.2, y: 3.4 };\n",
    "\n",
    "    let myline = Line { start: a, end: b };\n",
    "\n",
    "    // with type\n",
    "    let a:Point<u16> = Point { x: 0, y: 0 };\n",
    "    let b:Point<f32> = Point { x: 1.2, y: 3.4 };\n",
    "\n",
    "    // can only be declared if Points have same type\n",
    "    //let myline = Line { start: a, end: b };\n",
    "}\n",
    "\n",
    "generics_demo()\n"
   ]
  }
 ],
 "metadata": {
  "kernelspec": {
   "display_name": "Rust",
   "language": "rust",
   "name": "rust"
  },
  "language_info": {
   "codemirror_mode": "rust",
   "file_extension": ".rs",
   "mimetype": "text/rust",
   "name": "Rust",
   "pygment_lexer": "rust",
   "version": ""
  },
  "orig_nbformat": 4
 },
 "nbformat": 4,
 "nbformat_minor": 2
}
