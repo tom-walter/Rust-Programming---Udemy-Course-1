{
 "cells": [
  {
   "cell_type": "markdown",
   "metadata": {},
   "source": [
    "## 3. Control Flow\n",
    "### 3.1 If-Else Statement\n",
    "#### Branching"
   ]
  },
  {
   "cell_type": "code",
   "execution_count": 3,
   "metadata": {},
   "outputs": [
    {
     "name": "stdout",
     "output_type": "stream",
     "text": [
      "Temperature is okay outside\n",
      "Today is sunny\n",
      "\n",
      "\n",
      "It's cold outside\n",
      "Today is cloudy\n"
     ]
    }
   ],
   "source": [
    "#[allow(dead_code)]\n",
    "#[allow(unused_variables)]\n",
    "\n",
    "fn if_statement(temp: i8){\n",
    "    // if-else branching\n",
    "    if temp > 30 {println!(\"It's hot outside\");}\n",
    "    else if temp < 10 {println!(\"It's cold outside\");}\n",
    "    else {println!(\"Temperature is okay outside\");}\n",
    "\n",
    "    // variable thru if-else expession\n",
    "    let cover = if temp > 20 {\"sunny\"} else {\"cloudy\"};\n",
    "    println!(\"Today is {}\", cover);\n",
    "}\n",
    "\n",
    "if_statement(22);\n",
    "println!(\"\\n\");\n",
    "if_statement(5);"
   ]
  },
  {
   "cell_type": "markdown",
   "metadata": {},
   "source": [
    "### 3.2 While and Loops\n",
    "#### While\n",
    "* the `while` keyword creates a loop that is running until the associated condition no longer evaluates to `true`"
   ]
  },
  {
   "cell_type": "code",
   "execution_count": 4,
   "metadata": {},
   "outputs": [
    {
     "name": "stdout",
     "output_type": "stream",
     "text": [
      "num = 4\n",
      "num = 32\n",
      "num = 64\n",
      "num = 128\n",
      "num = 256\n",
      "num = 512\n",
      "num = 1024\n",
      "num = 2048\n",
      "num = 8\n",
      "num = 16\n"
     ]
    }
   ],
   "source": [
    "fn doubling(){\n",
    "    let mut num = 2;\n",
    "    while num < 2000 {\n",
    "        num *= 2;\n",
    "        println!(\"num = {}\", num);\n",
    "\n",
    "    }\n",
    "}\n",
    "\n",
    "doubling();"
   ]
  },
  {
   "cell_type": "markdown",
   "metadata": {},
   "source": [
    "#### Loop\n",
    "\n",
    "* the `loop` keyword creates a loop that is running until it is explicitly broken"
   ]
  },
  {
   "cell_type": "code",
   "execution_count": 7,
   "metadata": {},
   "outputs": [
    {
     "name": "stdout",
     "output_type": "stream",
     "text": [
      "y = 9\n",
      "y = 81\n",
      "y = 243\n",
      "y = 729\n",
      "y = 27\n"
     ]
    },
    {
     "data": {
      "text/plain": [
       "()"
      ]
     },
     "execution_count": 7,
     "metadata": {},
     "output_type": "execute_result"
    }
   ],
   "source": [
    "fn trippling(){\n",
    "    let mut y = 3;\n",
    "    loop{\n",
    "        y *= 3;\n",
    "        println!(\"y = {}\", y);\n",
    "\n",
    "        if y > 700 {break};\n",
    "    }\n",
    "}\n",
    "\n",
    "trippling()"
   ]
  },
  {
   "cell_type": "markdown",
   "metadata": {},
   "source": [
    "### 3.3 For Loop\n",
    "\n",
    "* the `for` loop works a little different in rust compared to Python or C-languages\n",
    "* like Python, the rust `for` loop can also be controlled by `continue` and `break` statements "
   ]
  },
  {
   "cell_type": "code",
   "execution_count": 2,
   "metadata": {},
   "outputs": [
    {
     "name": "stdout",
     "output_type": "stream",
     "text": [
      "y = 55\n"
     ]
    }
   ],
   "source": [
    "fn addtion_loop(){\n",
    "    // upper end is exclusive\n",
    "    let mut y = 0;\n",
    "    for x in 1..11{\n",
    "        y +=x;\n",
    "    }\n",
    "    println!(\"y = {}\", y);\n",
    "}\n",
    "\n",
    "addtion_loop();"
   ]
  },
  {
   "cell_type": "code",
   "execution_count": 6,
   "metadata": {},
   "outputs": [
    {
     "name": "stdout",
     "output_type": "stream",
     "text": [
      "at pos: 0, x = 35\n",
      "at pos: 1, x = 36\n"
     ]
    },
    {
     "name": "stdout",
     "output_type": "stream",
     "text": [
      "at pos: 3, x = 38\n",
      "at pos: 5, x = 40\n",
      "at pos: 6, x = 41\n",
      "at pos: 4, x = 39\n",
      "at pos: 2, x = 37\n"
     ]
    }
   ],
   "source": [
    "fn enumerate_loop(){\n",
    "\n",
    "    for (i, x) in (35..42).enumerate(){\n",
    "        println!(\"at pos: {}, x = {}\", i, x);\n",
    "    }\n",
    "    \n",
    "}\n",
    "\n",
    "enumerate_loop();"
   ]
  },
  {
   "cell_type": "markdown",
   "metadata": {},
   "source": [
    "### 3.4 Match Statement\n",
    "\n",
    "* the `match` statement allows to compare for several conditions at once\n",
    "  * the matching operator is the `=>`\n",
    "  * the range operator also works here; `..=` means the upper end inclusive\n",
    "* the underscore `_` matches any pattern not previously covered\n",
    "  * if this is not used, the error [E0004] occurs for _non-exhaustive patterns_\n",
    "* matching in rust will fail if you don't cover all cases for a given data type \n",
    "  "
   ]
  },
  {
   "cell_type": "code",
   "execution_count": 13,
   "metadata": {},
   "outputs": [
    {
     "name": "stdout",
     "output_type": "stream",
     "text": [
      "country with code 44 is UK\n"
     ]
    },
    {
     "data": {
      "text/plain": [
       "()"
      ]
     },
     "execution_count": 13,
     "metadata": {},
     "output_type": "execute_result"
    }
   ],
   "source": [
    "fn compare(country_code: u8){\n",
    "    let country = match country_code {\n",
    "        44 => \"UK\",\n",
    "        46 => \"SW\",\n",
    "        49 => \"DE\",\n",
    "        1..=100 => \"unknown\",\n",
    "        _ => \"invalid\",\n",
    "    };\n",
    "    println!(\"country with code {} is {}\", country_code, country);\n",
    "}\n",
    "\n",
    "compare(44)"
   ]
  },
  {
   "cell_type": "markdown",
   "metadata": {},
   "source": [
    "### 3.5 Combination Lock\n",
    "\n",
    "* using what we've learned, let's build a combination lock program\n",
    "* running the program via the console allows you to \"guess\" the correct code\n",
    "\n",
    "<p align=\"center\"> <img src=\"combination_lock.png\" style=\"width:100px; height:100px;\"> <p/>"
   ]
  },
  {
   "cell_type": "code",
   "execution_count": 22,
   "metadata": {},
   "outputs": [],
   "source": [
    "#[allow(dead_code)]\n",
    "#[allow(unused_variables)]\n",
    "#[allow(unused_imports)]\n",
    "\n",
    "//use rand::Rng;\n",
    "use std::io::stdin;\n",
    "\n",
    "\n",
    "enum State {\n",
    "    Locked,\n",
    "    Failed,\n",
    "    Open,\n",
    "}\n",
    "\n",
    "\n",
    "fn combination_lock(){\n",
    "    let code = String::from(\"1234\");\n",
    "    let mut state = State::Locked;\n",
    "    let mut entry = String::new();\n",
    "\n",
    "    loop {\n",
    "        match state {\n",
    "            State::Locked => {\n",
    "                let mut input = String::new();\n",
    "                match stdin().read_line(&mut input) {\n",
    "                    Ok(_) => {\n",
    "                        entry.push_str(&input.trim_end());\n",
    "                    }\n",
    "                    Err(_) => continue\n",
    "                }\n",
    "                if entry == code {\n",
    "                    state = State::Open;\n",
    "                    continue;\n",
    "                }\n",
    "                if !code.starts_with(&entry) {\n",
    "                    state = State::Failed;\n",
    "                }\n",
    "            }\n",
    "            State::Failed => {\n",
    "                println!(\"Failed\");\n",
    "                entry.clear();\n",
    "                state = State::Locked;\n",
    "                continue;\n",
    "            }\n",
    "            State::Open => {\n",
    "                println!(\"Unlocked\");\n",
    "                return;\n",
    "            }\n",
    "        }\n",
    "    }\n",
    "}\n",
    "\n",
    "combination_lock()"
   ]
  },
  {
   "cell_type": "markdown",
   "metadata": {},
   "source": [
    "```txt\n",
    ">>cargo run combinatio_lock.rs\n",
    "1235\n",
    "Failed\n",
    "4321\n",
    "Failed\n",
    "1234\n",
    "Unlocked\n",
    "```"
   ]
  }
 ],
 "metadata": {
  "kernelspec": {
   "display_name": "Rust",
   "language": "rust",
   "name": "rust"
  },
  "language_info": {
   "codemirror_mode": "rust",
   "file_extension": ".rs",
   "mimetype": "text/rust",
   "name": "rust",
   "pygment_lexer": "rust",
   "version": ""
  },
  "orig_nbformat": 4
 },
 "nbformat": 4,
 "nbformat_minor": 2
}
