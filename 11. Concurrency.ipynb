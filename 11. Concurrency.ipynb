{
 "cells": [
  {
   "cell_type": "markdown",
   "metadata": {},
   "source": [
    "## 11. Concurrency\n",
    "\n",
    "* one of the main reasons why Rust is strict about memory safety is Concurrency\n",
    "* when variables and functions are used on many different threads, Rust will not habe issues with race conditions or data sharing\n",
    "\n",
    "### 11.1 Spawning and Joining Threads\n",
    "\n",
    "* a thread of execution in programming is a line of procedures\n",
    "* threads can run (procedures) in parallel "
   ]
  },
  {
   "cell_type": "code",
   "execution_count": 22,
   "metadata": {
    "vscode": {
     "languageId": "rust"
    }
   },
   "outputs": [
    {
     "data": {
      "text/plain": [
       "()"
      ]
     },
     "execution_count": 22,
     "metadata": {},
     "output_type": "execute_result"
    }
   ],
   "source": [
    "use std::thread;\n",
    "use std::time;\n",
    "\n",
    "fn main()\n",
    "{\n",
    "    // side-thread producing +\n",
    "    let handle = thread::spawn(|| {\n",
    "        for _ in 1..10 {\n",
    "            print!(\"+\");\n",
    "            thread::sleep(time::Duration::from_millis(500));\n",
    "        }\n",
    "    });\n",
    "    \n",
    "    // main-thread producing -\n",
    "    for _ in 1..10 {\n",
    "        print!(\"-\");\n",
    "        thread::sleep(time::Duration::from_millis(300));\n",
    "    }\n",
    "    \n",
    "    // if the main-thread finishes before the side-thread\n",
    "    // then the program will terminate\n",
    "    // to let the side-thread finish too, use .join()\n",
    "    handle.join();\n",
    "}"
   ]
  },
  {
   "cell_type": "markdown",
   "metadata": {},
   "source": [
    "```text\n",
    "-+-+--+-+--+--++++\n",
    "```"
   ]
  }
 ],
 "metadata": {
  "kernelspec": {
   "display_name": "Rust",
   "language": "rust",
   "name": "rust"
  },
  "language_info": {
   "codemirror_mode": "rust",
   "file_extension": ".rs",
   "mimetype": "text/rust",
   "name": "Rust",
   "pygment_lexer": "rust",
   "version": ""
  },
  "orig_nbformat": 4
 },
 "nbformat": 4,
 "nbformat_minor": 2
}
