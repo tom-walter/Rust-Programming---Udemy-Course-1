{
 "cells": [
  {
   "cell_type": "markdown",
   "metadata": {},
   "source": [
    "## 2. Types and Variables\n",
    "### 2.1 Numbers on Computers\n",
    "Representation of Data\n",
    "* in computing, we care about storing and transferring data (information)\n",
    "* there are different types of data we may want to transfer:\n",
    "  * boolean: true, false\n",
    "  * integer and decimal numbers\n",
    "  * text: individual characters, strings of characters\n",
    "  * structure data: HTML, XML, JSON\n",
    "  * binary data: executables, proprietary formats (images)\n",
    "* programming languages work with these specific data types\n",
    "Two Types of Computing\n",
    "* electronic systems fall into 2 types of categories\n",
    "  * analog and digital\n",
    "* analog systems use electric current to represent data\n",
    "  * e.g. 4-20mA current loop\n",
    "* digital systems use pulses to encode data\n",
    "  * communication using a stream of 0s and 1s\n",
    "  * each piece of information (either a 0 or a 1) is called a bit\n",
    "  * we can store bits in memory (RAM, SSD) or transmit them\n",
    "* modern computers are primarily digital \n",
    "  * exceptions are microphones, audio output, etc.\n",
    "  * they have analog-to-digital converters\n",
    "\n",
    "Bits\n",
    "* a single bit is the smallest piece of data in a digital system\n",
    "* it can be either 0 or 1, so it can store anything that has only two options\n",
    "  * gender 0=female, 1=male\n",
    "  * discrete probability 0=not raining, 1=raining\n",
    "* a single bit is not enough to encode a number or piece of text\n",
    "\n",
    "Multiple Bits\n",
    "* to encode more information with bits, we put them together\n",
    "* 2 bits can encode 4 states like such `00, 01, 10, 11`\n",
    "* generally speaking, $N$ bits allow us to encode $2^N$ states\n",
    "\n",
    "Bytes\n",
    "* the most common value for $N$ is 8, which allows to encode $2^8=256$ states\n",
    "* this is called a byte\n",
    "* example usage:\n",
    "  * human age in a single byte\n",
    "  * Latin-based alphabet + punctuation in a single byte\n",
    "  * but big enough for Chinese or Japanese characters, emojis, etc.\n",
    "\n",
    "More Bytes\n",
    "* if we put 2 bytes together we get $2^{16}=65536$ possible states\n",
    "* a two-byte is called a \"short\" in some programming languages\n",
    "* example usages\n",
    "  * can store larger number\n",
    "  * can store screen coordinates\n",
    "* put 4 bytes together and you have $2^{32}=4*10^{9}$ (4 billion) possible states\n",
    "* put 8 bytes together and you have $2^{64}=1.8*10^{19}$ possible values\n",
    "\n",
    "How to use this?\n",
    "* for storing whole, non-negative numbers (unsigned) numbers\n",
    "  * 8-, 16-, 32-, and 64 bits\n",
    "* for storing whole numbers (signed, possibly negative) \n",
    "  * 8-, 16-, 32-, and 64 bits\n",
    "* examples\n",
    "  * a unsigned 16-bit number [0, 65535]\n",
    "  * a signed 16-bit number [-32768,+32767] (standardized with at center)\n",
    "* for storing non-whole numbers (floating-point numbers)\n",
    "\n",
    "Platform-Specific Types\n",
    "* CPUs have processes have bitness\n",
    "  * e.g. \"32-bit CPU\" or \"64-bit CPU\"\n",
    "  * e.g. Microsoft Visual Studio is 32-bit process (even if running on a 64-bit CPU)\n",
    "  * the bitness puts a limit on range of memory (addresses) you can access\n",
    "* many programming languages provide platform-specific integer types (signed and unsigned)\n",
    "  * size of the data depends on the platform you’re targeting\n",
    "  * for example, on a 64-bit machine, a platform-specific integral size would take up 64 bits\n",
    "* these types are useful when you need a general-purpose integer variable (e.g. loop counter) or need to access an array element by index\n",
    "\n",
    "Floating-Point Numbers\n",
    "* floating-point numbers are used to store non-whole values: 1.234 or -5.0001\n",
    "* there 2 data types\n",
    "  * 32-bit aka \"float\" or single-precision\n",
    "  * 64-bit aka \"double\" or double-precision \n",
    "* floating-point representation is standardized (IEEE 754)\n",
    "* FP number do not allow exact representation of numbers\n",
    "  * because not all base-10 number can be represented equivalently in base-2\n",
    "  * e.g. that’s why 0.1+0.2 is exactly equal to 0.3 (on computers)\n",
    "* FPs represent a range of special values\n",
    "  * ± infinity, quiet/signaling NaNs"
   ]
  },
  {
   "cell_type": "markdown",
   "metadata": {},
   "source": [
    "### 2.3 Core Data Types\n",
    "#### Integers\n",
    "\n",
    "* `a` = unsigned 8-bit, is immutable\n",
    "  + variables will be default by immutable\n",
    "* `b` = signed 8-bit, is mutable\n",
    "  * remember that the default upper & lower bound is different\n",
    "  * the key `mut` makes it mutable\n",
    "* `c` = is not typed so that it must be inferred by the compile\n",
    "  * the key `&` is a rust pointer allowing other functions to use a variable\n",
    "* `z` = takes the native size of the machine using `isize` or `usize` type"
   ]
  },
  {
   "cell_type": "code",
   "execution_count": 2,
   "metadata": {},
   "outputs": [
    {
     "name": "stdout",
     "output_type": "stream",
     "text": [
      "a = 123\n",
      "b = 42 after\n",
      "c = 123456789, taking 4 bytes\n",
      "z = 312, taking 8 bytes, 64-bit OS\n",
      "b = 0 before\n"
     ]
    },
    {
     "data": {
      "text/plain": [
       "()"
      ]
     },
     "execution_count": 2,
     "metadata": {},
     "output_type": "execute_result"
    }
   ],
   "source": [
    "#[allow(dead_code)]\n",
    "#[allow(unused_variables)]\n",
    "\n",
    "use std::mem; // standard package for memory\n",
    "\n",
    "fn print_int() {\n",
    "    let a: u8 = 123; // u = unsigned, 8 bits, values {0, 255}\n",
    "    println!(\"a = {}\", a); // a is immutable\n",
    "\n",
    "    let mut b: i8 = 0; // i = signed, 8 bits, values {-128, 127}\n",
    "    println!(\"b = {} before\", b); \n",
    "    b = 42;     // mut makes b mutable\n",
    "    println!(\"b = {} after\", b);\n",
    "\n",
    "    let c = 123456789; // typing can also be infered\n",
    "    println!(\"c = {}, taking {} bytes\", c, mem::size_of_val(&c));\n",
    "\n",
    "    let z: isize = 312; // native process(or) size\n",
    "    let size_z = mem::size_of_val(&z);\n",
    "    println!(\"z = {}, taking {} bytes, {}-bit OS\", z, size_z, size_z*8)\n",
    "}\n",
    "\n",
    "print_int()"
   ]
  },
  {
   "cell_type": "markdown",
   "metadata": {},
   "source": [
    "#### Characters\n",
    "\n",
    "* single characters use single quotes\n",
    "* the char type represent a 32-bit unicode scalar value, which means it can encode more values than ASCII including emojis"
   ]
  },
  {
   "cell_type": "code",
   "execution_count": 3,
   "metadata": {},
   "outputs": [
    {
     "name": "stdout",
     "output_type": "stream",
     "text": [
      "d = x, taking 4 bytes\n",
      "crab = 🦀\n"
     ]
    },
    {
     "data": {
      "text/plain": [
       "()"
      ]
     },
     "execution_count": 3,
     "metadata": {},
     "output_type": "execute_result"
    }
   ],
   "source": [
    "fn print_char() {\n",
    "    let d: char = 'x'; // single quotes for single characters\n",
    "    let crab: char = '🦀'; // char type represents a 32-bit unicode, i.e. more than ASCII\n",
    "    println!(\"d = {}, taking {} bytes\", d, mem::size_of_val(&d));\n",
    "    println!(\"crab = {}\", crab)\n",
    "}\n",
    "\n",
    "print_char()"
   ]
  },
  {
   "cell_type": "markdown",
   "metadata": {},
   "source": [
    "#### Floating-Point Numbers\n",
    "\n",
    "* all programming language and hardware follow the IEEE754 standard\n",
    "* floating-point number are always signed\n",
    "  * `f64` is the default float type"
   ]
  },
  {
   "cell_type": "code",
   "execution_count": 4,
   "metadata": {},
   "outputs": [
    {
     "name": "stdout",
     "output_type": "stream",
     "text": [
      "e = 2.5, taking 4 bytes\n"
     ]
    },
    {
     "data": {
      "text/plain": [
       "()"
      ]
     },
     "execution_count": 4,
     "metadata": {},
     "output_type": "execute_result"
    }
   ],
   "source": [
    "fn print_fp(){\n",
    "    // f32 & f64 follow the IEEE754 standard\n",
    "    let e: f32 = 2.5;\n",
    "    println!(\"e = {}, taking {} bytes\", e, mem::size_of_val(&e));\n",
    "}\n",
    "\n",
    "print_fp()"
   ]
  },
  {
   "cell_type": "markdown",
   "metadata": {},
   "source": [
    "#### Boolean\n",
    "\n",
    "* boolean can only be true or false\n",
    "* although it takes only 1 bit in memory, it will also be stored in a byte (as the smallest memory container for Rust)\n"
   ]
  },
  {
   "cell_type": "code",
   "execution_count": 5,
   "metadata": {},
   "outputs": [
    {
     "name": "stdout",
     "output_type": "stream",
     "text": [
      "g = false, taking 1 byte\n"
     ]
    },
    {
     "data": {
      "text/plain": [
       "()"
      ]
     },
     "execution_count": 5,
     "metadata": {},
     "output_type": "execute_result"
    }
   ],
   "source": [
    "fn print_bool(){\n",
    "    let g: bool = false; // or true\n",
    "    println!(\"g = {}, taking {} byte\", g, mem::size_of_val(&g));\n",
    "}\n",
    "\n",
    "print_bool()"
   ]
  },
  {
   "cell_type": "markdown",
   "metadata": {},
   "source": [
    "### 2.4 Operators\n",
    "#### Arithmetic\n",
    "\n",
    "* arithmetic functions are fairly similar to other programming language\n",
    "* self-operations are same as Python\n"
   ]
  },
  {
   "cell_type": "code",
   "execution_count": 6,
   "metadata": {},
   "outputs": [
    {
     "name": "stdout",
     "output_type": "stream",
     "text": [
      "(2+3*4)/2 = 7\n",
      "a += 2 => 9\n",
      "a % 2 => 1\n"
     ]
    },
    {
     "data": {
      "text/plain": [
       "()"
      ]
     },
     "execution_count": 6,
     "metadata": {},
     "output_type": "execute_result"
    }
   ],
   "source": [
    "fn operators(){\n",
    "    // arithmetic\n",
    "    let mut a = (2+3*4)/2; // order of operations applies\n",
    "    println!(\"(2+3*4)/2 = {}\", a);\n",
    "    // self-operations work like Python\n",
    "    a += 2; \n",
    "    println!(\"a += 2 => {}\", a);\n",
    "    // modulo operator gives remainder of div\n",
    "    println!(\"a % 2 => {}\", a%2);\n",
    "}\n",
    "\n",
    "operators()"
   ]
  },
  {
   "cell_type": "markdown",
   "metadata": {},
   "source": [
    "#### Power Functions\n",
    "\n",
    "* the basic power function can be called from the numerical data type \n",
    "  * https://doc.rust-lang.org/std/?search=pow \n",
    "* integer power function must have integer in the exponent\n",
    "* floating power function must have floating number in the exponent\n"
   ]
  },
  {
   "cell_type": "code",
   "execution_count": 7,
   "metadata": {},
   "outputs": [
    {
     "name": "stdout",
     "output_type": "stream",
     "text": [
      "3 ^ 3 = 27\n",
      "2.5 ^ 3 = 15.625\n",
      "2.5 ^ π = 17.78956824426124\n"
     ]
    },
    {
     "data": {
      "text/plain": [
       "()"
      ]
     },
     "execution_count": 7,
     "metadata": {},
     "output_type": "execute_result"
    }
   ],
   "source": [
    "fn power_fun(){\n",
    "    // power functions & variations\n",
    "    let cubed = i32::pow(3, 3);\n",
    "    println!(\"3 ^ 3 = {}\", cubed);\n",
    "    // integer power function\n",
    "    let b = 2.5;\n",
    "    let b_cubed = f64::powi(b, 3);\n",
    "    println!(\"{} ^ 3 = {}\", b, b_cubed);\n",
    "    // floating-point power function\n",
    "    let b_to_pi = f64::powf(b, std::f64::consts::PI);\n",
    "    println!(\"{} ^ π = {}\", b, b_to_pi);\n",
    "}\n",
    "\n",
    "power_fun()"
   ]
  },
  {
   "cell_type": "markdown",
   "metadata": {},
   "source": [
    "#### Bitwise Operators\n",
    "\n",
    "* bitwise operators\n",
    "  * `| OR, & AND, ^ XOR, ! NOR`\n",
    "* shift operators `<<`\n",
    "* logical operators (comparison) \n",
    "  * `< <= > >= == !=`\n",
    "  * will return boolean\n",
    "\n",
    "\n",
    "* PI is a constant from the standard library; constants are full caps"
   ]
  },
  {
   "cell_type": "code",
   "execution_count": 8,
   "metadata": {},
   "outputs": [
    {
     "name": "stdout",
     "output_type": "stream",
     "text": [
      "1|2 = 3\n",
      "π < 4.0 = true\n",
      "π ≠ 4.0 = true\n",
      "2 ^ 10 = 1024\n"
     ]
    },
    {
     "data": {
      "text/plain": [
       "()"
      ]
     },
     "execution_count": 8,
     "metadata": {},
     "output_type": "execute_result"
    }
   ],
   "source": [
    "fn bitwise_fun(){\n",
    "    // work in the bit-level\n",
    "    // | OR, & AND, ^ XOR, ! NOR\n",
    "    let c = 1 | 2;\n",
    "    // 01 OR 10 = 11 == 3_10\n",
    "    println!(\"1|2 = {}\", c);\n",
    "\n",
    "    // shift operator\n",
    "    let two_to_10 = 1 << 10;\n",
    "    println!(\"2 ^ 10 = {}\", two_to_10);\n",
    "\n",
    "    // logical: < <= > >= == != \n",
    "    let pi = std::f64::consts::PI;\n",
    "    let pi_less_4 = pi < 4.0;\n",
    "    println!(\"π < 4.0 = {}\", pi_less_4);\n",
    "    let pi_not_4 = pi != 4.0;\n",
    "    println!(\"π ≠ 4.0 = {}\", pi_not_4);\n",
    "}\n",
    "\n",
    "bitwise_fun()"
   ]
  },
  {
   "cell_type": "markdown",
   "metadata": {},
   "source": [
    "### 2.5 Scope and Shadowing\n",
    "\n",
    "* a scope delimits a field of operations\n",
    "* _global scope_\n",
    "  * can be consumed by all functions inside a script\n",
    "  * declared outside functions, usually on top of script\n",
    "  * usually constants\n",
    "* _local scope_\n",
    "  * means that a variable declared inside a function is available for that same function to consume and not outside of it \n",
    "  * in rust, curly braces declare a scope `{}`, they don’t need to be a function\n",
    "* scopes are hierarchical from the outside in\n",
    "  * which means a variable can be handed into a lower scope implicitly but not out of it (emphasis on implicit)\n",
    "  * this is called shadowing\n"
   ]
  },
  {
   "cell_type": "code",
   "execution_count": 9,
   "metadata": {},
   "outputs": [
    {
     "name": "stdout",
     "output_type": "stream",
     "text": [
      "inside b = 456\n",
      "outside a = 123\n",
      "inside a = 123\n"
     ]
    },
    {
     "data": {
      "text/plain": [
       "()"
      ]
     },
     "execution_count": 9,
     "metadata": {},
     "output_type": "execute_result"
    }
   ],
   "source": [
    "fn scope_and_shadow(){\n",
    "    let a = 123;\n",
    "\n",
    "    {\n",
    "        let b = 456;\n",
    "        println!(\"inside b = {}\", b);\n",
    "        println!(\"inside a = {}\", a);\n",
    "    }\n",
    "\n",
    "    println!(\"outside a = {}\", a);\n",
    "    //println!(\"outside b = {}\", b);\n",
    "}\n",
    "\n",
    "scope_and_shadow()"
   ]
  },
  {
   "cell_type": "markdown",
   "metadata": {},
   "source": [
    "### 2.6 Declaring and Using Constants\n",
    "\n",
    "```rust\n",
    "// constant\n",
    "consts FORTY_TWO = 42;\n",
    "\n",
    "// static variable\n",
    "static random: u8 = 32;\n",
    "```"
   ]
  },
  {
   "cell_type": "markdown",
   "metadata": {},
   "source": [
    "### 2.7 Stack and Heap\n",
    "\n",
    "memory allocation in rust programming follows 1 of 2 ways\n",
    "\n",
    "\n",
    "<img src=\"sketch_stack_and_heap.png\" style=\"width:400px;height:300px;\">\n",
    "\n",
    "__1. stack__\n",
    "* is filled from bottom-up\n",
    "* linear data structure that accompanies a principle known as\n",
    "  * LIFO (Last In First Out) or\n",
    "  * FILO (First In Last Out)\n",
    "* function with their argument also get filled linearly onto the stack\n",
    "* variables in the stack get deallocated automatically\n",
    "* stack memory is fast but size is limited (short-term)\n",
    "* variable on the stack is created like `let x: f64 = 0.0;`\n",
    "\n",
    "__2. heap__\n",
    "* heap is more of a long-term memory compared stack\n",
    "* `Box::new()`: a new variable has pointer in the stack that points to the memory address in the stack\n",
    "* they can be consumed in other functions using the dereferencing operator `*`\n",
    "\n",
    "More on memory later in section on ownership."
   ]
  },
  {
   "cell_type": "code",
   "execution_count": 6,
   "metadata": {},
   "outputs": [
    {
     "name": "stdout",
     "output_type": "stream",
     "text": [
      "p1 takes 16 bytes\n",
      "p2 takes 8 bytes\n",
      "p3 takes 16 bytes\n"
     ]
    },
    {
     "data": {
      "text/plain": [
       "()"
      ]
     },
     "execution_count": 6,
     "metadata": {},
     "output_type": "execute_result"
    }
   ],
   "source": [
    "use std::mem;\n",
    "\n",
    "struct Point{\n",
    "    // custom data type with x & y coords\n",
    "    x: f64,\n",
    "    y: f64\n",
    "}\n",
    "\n",
    "fn origin() -> Point{\n",
    "    Point{x: 0.0, y: 0.0}\n",
    "}\n",
    "\n",
    "fn stack_and_heap(){\n",
    "    // stack allocation\n",
    "    let p1 = origin();\n",
    "    // heap allocation \n",
    "    let p2 = Box::new(origin());\n",
    "\n",
    "    // 2 * f64 = 2 * 8 bytes = 16 bytes\n",
    "    println!(\"p1 takes {} bytes\", mem::size_of_val(&p1));\n",
    "    // p2 is just a pointer to memory address = usize\n",
    "    println!(\"p2 takes {} bytes\", mem::size_of_val(&p2));\n",
    "\n",
    "    // accessing data on the heap with *\n",
    "    let p3 = *p2;\n",
    "    println!(\"p3 takes {} bytes\", mem::size_of_val(&p3));\n",
    "}\n",
    "\n",
    "stack_and_heap()"
   ]
  },
  {
   "cell_type": "markdown",
   "metadata": {},
   "source": [
    "### 2.8 Debugging Rust Applications with your IDE \n",
    "\n",
    "* many code editors allow to set so-called breaking points \"🔴\"\n",
    "* when running the application inside the IDE in debug mide, the execution will pause at the breaking point\n",
    "* then you can inspect\n",
    "  * the contents of the variables\n",
    "  * the flow of the statements: step in, step over, evaluate expression, etc.\n",
    "* log-functions let you write info to the consol instead of using `println!`-statements "
   ]
  }
 ],
 "metadata": {
  "kernelspec": {
   "display_name": "Rust",
   "language": "rust",
   "name": "rust"
  },
  "language_info": {
   "codemirror_mode": "rust",
   "file_extension": ".rs",
   "mimetype": "text/rust",
   "name": "rust",
   "pygment_lexer": "rust",
   "version": ""
  },
  "orig_nbformat": 4
 },
 "nbformat": 4,
 "nbformat_minor": 2
}
