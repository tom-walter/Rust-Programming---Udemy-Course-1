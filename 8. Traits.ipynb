{
 "cells": [
  {
   "cell_type": "markdown",
   "metadata": {},
   "source": [
    "## 8. Traits\n",
    "### 8.1 Traits\n",
    "\n",
    "* traits are specific to OOP in Rust programming\n",
    "* __Rust does not have inheritance__ like other programming langauges\n",
    "* if two objects should share the same or a very similar method, this is called a trait\n",
    "* `trait` allows to create an abstract parent class with certain features that can be shared by the child classes\n",
    "  * these features can be implemented as \"empty\" just by their signature\n",
    "  * or with a default function\n",
    "* then these `trait`s can passed along to a `struct` (class) via the `impl`\n",
    "  * does \"inheritance\" is explicitly modelled rather than implictily passed\n",
    "  * to produce more `struct`s on the fly, a `trait` can also have a static method called `create() -> Self` (a factory function)\n",
    "* instances of classes can then be instantiated\n",
    "  * from `struct` \n",
    "  * from the factory method\n",
    "  * from the trait with typing\n",
    "\n",
    "\n",
    "Example\n",
    "* code the following example with Animal as `trait`\n",
    "* implement its methods onto the `struct`s Human and Cat\n",
    "\n",
    "```consol\n",
    "Animal\n",
    "├── create() -> Self\n",
    "├── name \n",
    "└── talk()\n",
    "\n",
    "Human\n",
    "├── create() -> self\n",
    "├── name\n",
    "└── talk()\n",
    "\n",
    "Cat\n",
    "├── create() -> self\n",
    "├── name\n",
    "└── talk()\n",
    "```"
   ]
  },
  {
   "cell_type": "code",
   "execution_count": 9,
   "metadata": {
    "vscode": {
     "languageId": "rust"
    }
   },
   "outputs": [
    {
     "name": "stdout",
     "output_type": "stream",
     "text": [
      "Tom says hello!\n",
      "Katze says meow!\n",
      "Gato says meow!\n",
      "John says hello!\n"
     ]
    },
    {
     "data": {
      "text/plain": [
       "()"
      ]
     },
     "execution_count": 9,
     "metadata": {},
     "output_type": "execute_result"
    }
   ],
   "source": [
    "// abstract-level Animal\n",
    "trait Animal\n",
    "{\n",
    "    fn create(name: &'static str) -> Self;\n",
    "\n",
    "    fn name(&self) -> &'static str;\n",
    "\n",
    "    fn talk(&self)\n",
    "    {println!(\"{} cannot talk\", self.name());}\n",
    "}\n",
    "\n",
    "// class-level Human\n",
    "struct Human\n",
    "{\n",
    "    name: &'static str\n",
    "}\n",
    "\n",
    "impl Animal for Human\n",
    "{\n",
    "    fn create(name: &'static str) -> Human\n",
    "    {Human{name: name}}\n",
    "    \n",
    "    fn name(&self) -> &'static str\n",
    "    {return self.name}\n",
    "\n",
    "    fn talk(&self)\n",
    "    {println!(\"{} says hello!\", self.name());}\n",
    "}\n",
    "\n",
    "// class-level Cat\n",
    "struct Cat\n",
    "{\n",
    "    name: &'static str\n",
    "}\n",
    "\n",
    "impl Animal for Cat\n",
    "{\n",
    "    fn create(name: &'static str) -> Cat\n",
    "    {Cat{name: name}}\n",
    "\n",
    "    fn name(&self) -> &'static str\n",
    "    {return self.name}\n",
    "\n",
    "    fn talk(&self)\n",
    "    {println!(\"{} says meow!\", self.name());}\n",
    "}\n",
    "\n",
    "fn traits_demo()\n",
    "{\n",
    "    // instantiate from struct\n",
    "    let h = Human{name: \"Tom\"};\n",
    "    h.talk();\n",
    "    let c1 = Cat{name: \"Gato\"};\n",
    "    c1.talk();\n",
    "    // instantiate from factory\n",
    "    let c2 = Cat::create(\"Katze\");\n",
    "    c2.talk();\n",
    "    // instantiate from trait\n",
    "    let h2: Human = Animal::create(\"John\");\n",
    "    h2.talk();\n",
    "}\n",
    "\n",
    "traits_demo()"
   ]
  },
  {
   "cell_type": "markdown",
   "metadata": {},
   "source": [
    "* we can also use `trait` + `impl` to monkey patch additional functions onto existing generic types\n",
    "* let's add a summation to the generic vector "
   ]
  },
  {
   "cell_type": "code",
   "execution_count": 16,
   "metadata": {
    "vscode": {
     "languageId": "rust"
    }
   },
   "outputs": [
    {
     "name": "stdout",
     "output_type": "stream",
     "text": [
      "sum of a = 10\n"
     ]
    },
    {
     "data": {
      "text/plain": [
       "()"
      ]
     },
     "execution_count": 16,
     "metadata": {},
     "output_type": "execute_result"
    }
   ],
   "source": [
    "trait Summable<T>\n",
    "{\n",
    "    fn sum(&self) -> T;\n",
    "}\n",
    "\n",
    "impl Summable<i32> for Vec<i32>\n",
    "{\n",
    "    fn sum(&self) -> i32\n",
    "    {\n",
    "        let mut result:i32 = 0;\n",
    "        for x in self{result += *x;}\n",
    "        return result;\n",
    "    }\n",
    "}\n",
    "\n",
    "let a = vec![1, 2, 3, 4];\n",
    "println!(\"sum of a = {}\", a.sum())"
   ]
  },
  {
   "cell_type": "markdown",
   "metadata": {},
   "source": [
    "### 8.2 Trait Parameter\n",
    "\n",
    "* now we can use `trait`s as parameters in functions\n",
    "* there are 3 different ways to specify a `trait` parameter:\n",
    "1. with an `impl` & `trait` in the signature:\n",
    "  * `fn func(shape: impl Shape + Debug)`\n",
    "2. with generic type & `trait` in the signature:\n",
    "  * `fn print_info<T: Shape + Debug>(shape: T)`\n",
    "3. with `where` clause in the function signature:\n",
    "  * `fn print_info<T>(shape: T) where T: Shape + Debug`\n",
    "\n",
    "\n",
    "Example\n",
    "* create 2 simple geometric shapes: a Circle and a Square (as `struct`s) \n",
    "* create the `trait` Shape with an Area method\n",
    "* create `impl`ementations of the Area `trait` for each Shape\n",
    "  * $A_{square} = side ^2$\n",
    "  * $A_{circle} = radius ^2 * \\pi$"
   ]
  },
  {
   "cell_type": "code",
   "execution_count": 5,
   "metadata": {
    "vscode": {
     "languageId": "rust"
    }
   },
   "outputs": [],
   "source": [
    "use std::fmt::Debug;\n",
    "\n",
    "// our 2 simple shapes\n",
    "#[derive(Debug)]\n",
    "struct Circle {radius: f64,}\n",
    "#[derive(Debug)]\n",
    "struct Square {side: f64,}\n",
    "\n",
    "// trait for Shape with Area\n",
    "trait Shape\n",
    "{\n",
    "    fn area(&self) -> f64;\n",
    "}\n",
    "\n",
    "// implement area for square\n",
    "impl Shape for Square {\n",
    "    fn area(&self) -> f64 {\n",
    "        self.side.powi(2)\n",
    "    }\n",
    "}\n",
    "\n",
    "// implement area for circle\n",
    "impl Shape for Circle {\n",
    "    fn area(&self) -> f64 {\n",
    "        self.radius.powi(2) * std::f64::consts::PI\n",
    "    }\n",
    "}"
   ]
  },
  {
   "cell_type": "code",
   "execution_count": 10,
   "metadata": {
    "vscode": {
     "languageId": "rust"
    }
   },
   "outputs": [
    {
     "name": "stdout",
     "output_type": "stream",
     "text": [
      "Circle { radius: 2.0 }\n",
      "The area is 12.566370614359172\n",
      "Square { side: 4.0 }\n",
      "The area is 16\n"
     ]
    },
    {
     "data": {
      "text/plain": [
       "()"
      ]
     },
     "execution_count": 10,
     "metadata": {},
     "output_type": "execute_result"
    }
   ],
   "source": [
    "  //fn print_info(shape: impl Shape + Debug)\n",
    "  //fn print_info<T: Shape + Debug>(shape: T)\n",
    "  fn print_info<T>(shape: T)\n",
    "    where T: Shape + Debug\n",
    "  {\n",
    "    println!(\"{:?}\", shape);\n",
    "    println!(\"The area is {}\", shape.area());\n",
    "  }\n",
    "  \n",
    "  fn trait_param_demo() {\n",
    "    let c = Circle { radius: 2.0 };\n",
    "    print_info(c);\n",
    "    let sq = Square { side: 4.0 };\n",
    "    print_info(sq);\n",
    "  }\n",
    "\n",
    "  trait_param_demo()"
   ]
  },
  {
   "cell_type": "markdown",
   "metadata": {},
   "source": [
    "### 8.3 Into\n",
    "\n",
    "* `Into` is powerful build in `trait` that helps transfer data between data types, objects & collections\n",
    "* `Into` allows for automatic type conversion \n",
    "* it can be build in 2 different ways\n",
    "1. with generic type & `trait` in the function signature:\n",
    "* `fn new<S: Into<String>>(name: S) -> Person`\n",
    "2. with the `where` clause in the function signature\n",
    "* `fn new<S>(name: S) -> Person where S: Into<String>` "
   ]
  },
  {
   "cell_type": "code",
   "execution_count": 14,
   "metadata": {
    "vscode": {
     "languageId": "rust"
    }
   },
   "outputs": [
    {
     "data": {
      "text/plain": [
       "()"
      ]
     },
     "execution_count": 14,
     "metadata": {},
     "output_type": "execute_result"
    }
   ],
   "source": [
    "struct Person {name: String}\n",
    "\n",
    "impl Person\n",
    "{\n",
    "    // fn new(name: &str) -> Person\n",
    "    // {\n",
    "    //     Person{name: name.to_string()}\n",
    "    // }\n",
    "    fn new<S: Into<String>>(name: S) -> Person\n",
    "    {\n",
    "        Person{name: name.into()}\n",
    "    }\n",
    "}\n",
    "\n",
    "fn into_demo(){\n",
    "    // directly instantiating\n",
    "    let john = Person::new(\"John\");\n",
    "    // indirectly instantiating\n",
    "    let name = \"Jane\".to_string();\n",
    "    // no forced conversion with as_ref() thanks to Into\n",
    "    let jane = Person::new(name/*.as_ref()*/); \n",
    "}\n",
    "\n",
    "into_demo()"
   ]
  },
  {
   "cell_type": "markdown",
   "metadata": {},
   "source": [
    "### 8.4 Drop"
   ]
  },
  {
   "cell_type": "markdown",
   "metadata": {},
   "source": [
    "### 8.5 Operator Overloading "
   ]
  },
  {
   "cell_type": "markdown",
   "metadata": {},
   "source": [
    "### 8.6 Static Dispatch"
   ]
  },
  {
   "cell_type": "markdown",
   "metadata": {},
   "source": [
    "### 8.7 Dynamic Dispatch"
   ]
  },
  {
   "cell_type": "markdown",
   "metadata": {},
   "source": [
    "### 8.8. Why Dynamic Dispatch"
   ]
  },
  {
   "cell_type": "markdown",
   "metadata": {},
   "source": [
    "### 8.9 Vectors of Different Object"
   ]
  }
 ],
 "metadata": {
  "kernelspec": {
   "display_name": "Rust",
   "language": "rust",
   "name": "rust"
  },
  "language_info": {
   "codemirror_mode": "rust",
   "file_extension": ".rs",
   "mimetype": "text/rust",
   "name": "Rust",
   "pygment_lexer": "rust",
   "version": ""
  },
  "orig_nbformat": 4
 },
 "nbformat": 4,
 "nbformat_minor": 2
}
