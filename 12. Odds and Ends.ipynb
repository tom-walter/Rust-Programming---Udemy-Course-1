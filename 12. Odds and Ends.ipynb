{
 "cells": [
  {
   "cell_type": "markdown",
   "metadata": {},
   "source": [
    "## 12. Odds and Ends\n",
    "### 12.1 Consuming Crates\n",
    "\n",
    "* the [standard libraries](https://doc.rust-lang.org/std/index.html) `std` of Rust cover many functionalities that you may require for programming\n",
    "  * this includes primitive data types, collections, memory management, error handling and testing\n",
    "* but in certain situations, you may want to use external packages that supply functionality not included by standard Rust\n",
    "* this additional libraries are called `crates` in Rust and are listed on [crates.io](https://crates.io) \n",
    "  * you can search there for what you need and also find documentation on usage\n",
    "  * crates can be downloaded and compiled on your machine\n",
    "  * to import them into your code, use `extern create my_crate` at the top of your script"
   ]
  },
  {
   "cell_type": "markdown",
   "metadata": {},
   "source": [
    "### 12.2 Building Modules\n",
    "\n",
    "* we can also build and consume our own `crate`\n",
    "* 2 ways to create our own\n",
    "  * 1:  `main.rs` for making an executable\n",
    "  * 2:  `lib.rs` for making a library\n",
    "* using the 2nd way, let's set up a small module with greetings in different languages\n",
    "* folder structure setup\n",
    "  * create a directory for your new modules with its name\n",
    "  * inside this, create a source directory `src` and `Cargo.toml`\n",
    "  * inside the `src` directory, create the library file `lib.rs` where your functions go \n",
    "\n",
    "```text\n",
    "/phrases\n",
    "├── src\n",
    "│   └── lib.rs\n",
    "└── Cargo.toml\n",
    "```\n",
    "\n",
    "* code your structs, functions, etc. inside the `lib.rs`\n",
    "* to complete, run the `cargo build` command to turn it into a library\n",
    "  * this will compile/build the additional files for the `crate` \n",
    "\n",
    "```text\n",
    "/phrases\n",
    "├── src\n",
    "│   └── lib.rs\n",
    "├── target\n",
    "│   ├── /debug/...\n",
    "│   ├── .rust_info.json\n",
    "│   └── CACHEDIR.TAG\n",
    "├── Cargo.lock\n",
    "└── Cargo.toml\n",
    "```\n"
   ]
  },
  {
   "cell_type": "markdown",
   "metadata": {},
   "source": [
    "### 12.3 Testing\n",
    "\n",
    "* Rust also comes with built-in support for unit testing"
   ]
  },
  {
   "cell_type": "markdown",
   "metadata": {},
   "source": [
    "### 12.4 Comments and Documentation"
   ]
  }
 ],
 "metadata": {
  "kernelspec": {
   "display_name": "Rust",
   "language": "rust",
   "name": "rust"
  },
  "language_info": {
   "codemirror_mode": "rust",
   "file_extension": ".rs",
   "mimetype": "text/rust",
   "name": "Rust",
   "pygment_lexer": "rust",
   "version": ""
  },
  "orig_nbformat": 4
 },
 "nbformat": 4,
 "nbformat_minor": 2
}
