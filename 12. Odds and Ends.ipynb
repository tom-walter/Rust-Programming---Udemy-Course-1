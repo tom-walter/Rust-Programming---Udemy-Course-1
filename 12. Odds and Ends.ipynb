{
 "cells": [
  {
   "cell_type": "markdown",
   "metadata": {},
   "source": [
    "## 12. Odds and Ends\n",
    "### 12.1 Consuming Crates\n",
    "\n",
    "* the [standard libraries](https://doc.rust-lang.org/std/index.html) `std` of Rust cover many functionalities that you may require for programming\n",
    "  * this includes primitive data types, collections, memory management, error handling and testing\n",
    "* but in certain situations, you may want to use external packages that supply functionality not included by standard Rust\n",
    "* this additional libraries are called `crates` in Rust and are listed on [crates.io](https://crates.io) \n",
    "  * you can search there for what you need and also find documentation on usage\n",
    "  * crates can be downloaded and compiled on your machine\n",
    "  * to import them into your code, use `extern create my_crate` at the top of your script"
   ]
  },
  {
   "cell_type": "markdown",
   "metadata": {},
   "source": [
    "### 12.2 Building Modules\n",
    "\n",
    "* we can also build and consume our own `crate`\n",
    "* 2 ways to create our own\n",
    "  * 1:  `main.rs` for making an executable\n",
    "  * 2:  `lib.rs` for making a library\n",
    "* using the 2nd way, let's set up a small module with greetings in different languages\n",
    "* folder structure setup\n",
    "  * create a directory for your new modules with its name\n",
    "  * inside this, create a source directory `src` and `Cargo.toml`\n",
    "  * inside the `src` directory, create the library file `lib.rs` where your functions go \n",
    "\n",
    "```text\n",
    "/phrases\n",
    "├── src\n",
    "│   └── lib.rs\n",
    "└── Cargo.toml\n",
    "```\n",
    "\n",
    "* code your structs, functions, etc. inside the `lib.rs`\n",
    "* to complete, run the `cargo build` command to turn it into a library\n",
    "  * this will compile/build the additional files for the `crate` \n",
    "\n",
    "```text\n",
    "/phrases\n",
    "├── src\n",
    "│   └── lib.rs\n",
    "├── target\n",
    "│   ├── /debug/...\n",
    "│   ├── .rust_info.json\n",
    "│   └── CACHEDIR.TAG\n",
    "├── Cargo.lock\n",
    "└── Cargo.toml\n",
    "```\n",
    "\n",
    "* to consume your `crate` in another Rust script, import it like so\n",
    "\n",
    "```rust\n",
    "extern crate phrases;\n",
    "use phrases::greetings::{english, french};\n",
    "```"
   ]
  },
  {
   "cell_type": "markdown",
   "metadata": {},
   "source": [
    "### 12.3 Testing\n",
    "\n",
    "* Rust also comes with built-in support for [unit testing](https://doc.rust-lang.org/book/ch11-01-writing-tests.html)\n",
    "* tests can go into the same file where the functions are created or into a different module\n",
    "* here, we'll focus on testing the functions of our `crate` inside\n",
    "* testing functions get `#[test]` decorator\n",
    "  * other testing-related decorators are\n",
    "    * `#[should_panic]`, if we expect the test to fail\n",
    "    * `#[skip]`, if we want to skip the test\n",
    "* Rust provides macros like `assert!`, `assert_eq!`, and `assert_ne!` for conventional unit testing purposes\n",
    "* your Rust library can be tested by running the `cargo test` command\n",
    "* testing our `phrases` module produces the following output\n",
    "\n",
    "```\n",
    "$ cargo test                                                                                                                \n",
    "   Compiling phrases v0.1.0 (C:\\Users\\TWalter\\Tutorials\\Rust Learning\\Rust Programming - Udemy Course\\phrases)\n",
    "    Finished test [unoptimized + debuginfo] target(s) in 0.45s\n",
    "     Running unittests src\\lib.rs (target\\debug\\deps\\phrases-bfad30d6e63287cc.exe)\n",
    "\n",
    "running 2 tests\n",
    "test english_greeting_test ... ok\n",
    "test french_greeting_test ... ok \n",
    "\n",
    "test result: ok. 2 passed; 0 failed; 0 ignored; 0 measured; 0 filtered out; finished in 0.00s\n",
    "``` "
   ]
  },
  {
   "cell_type": "markdown",
   "metadata": {},
   "source": [
    "### 12.4 Comments and Documentation\n",
    "\n",
    "Commenting:\n",
    "* commenting your code is considered good practice\n",
    "* single-line comments are started with `//`\n",
    "* multi-line comments are encapsulated by `/* ... */`\n",
    "\n",
    "Documentation\n",
    "* documenting your code is (most often) a mandatory requirement\n",
    "* the documentation string is written _above_ the function or modules\n",
    "* function `fn` documentation is started by `///`\n",
    "* module `mod` documentation is started by `//!`\n",
    "* markdown syntax is supported inside documentation strings\n",
    "* examples given inside the documentation __must be valid code__ (this will be checked when compiling and testing the code)\n",
    "* after you have written your documentation, you can generate proper Rust library documentation by running the `rustdoc src/lib.rs` command\n",
    "* this documentation can be displayed nicely in the browser  "
   ]
  }
 ],
 "metadata": {
  "kernelspec": {
   "display_name": "Rust",
   "language": "rust",
   "name": "rust"
  },
  "language_info": {
   "codemirror_mode": "rust",
   "file_extension": ".rs",
   "mimetype": "text/rust",
   "name": "Rust",
   "pygment_lexer": "rust",
   "version": ""
  },
  "orig_nbformat": 4
 },
 "nbformat": 4,
 "nbformat_minor": 2
}
