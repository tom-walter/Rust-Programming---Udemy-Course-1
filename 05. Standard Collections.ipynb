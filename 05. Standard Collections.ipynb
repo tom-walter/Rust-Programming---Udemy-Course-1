{
 "cells": [
  {
   "cell_type": "markdown",
   "metadata": {},
   "source": [
    "## 5. Standard Collections\n",
    "### 5.1 Overview\n",
    "\n",
    "\n",
    "| COLLECTION                     | WHAT IT IS                   | C++            | C#               | JAVA          | PYTHON |\n",
    "|--------------------------------|------------------------------|----------------|------------------|---------------|--------|\n",
    "| `Vec<T>`                       | Dynamic (growable) array     | vector         | List             | ArrayList     | list   |\n",
    "| `VecDeque<T>`                  | Double-ended queue           | deque          |                  | ArrayDeque    | collections.deque |\n",
    "| `LinkedList<T>`                | Doubly linked list           | list           | LinkedList       | LinkedList    |        |\n",
    "| `BinaryHeap<T>` where T : Ord  | Max heap                     | priority_queue |                  | PriorityQueue | heapq  |\n",
    "| `HashMap<K,V>` where K : Eq+Hash | Dictionary (key-value table) | unordered_map  | Dictionary       | HashMap       | dict   |\n",
    "| `BTreeMap<K,V>` where K: Ord     | Sorted dictionary            | map            | SortedDictionary | TreeMap       | collections.OrderedDict |\n",
    "| `HashSet<T>` where T : Eq+Hash   | Hastable                     | unordered_set  | HashSet          | HashSet       | set    |\n",
    "| `BTreeSet<T>` where T : Ord      | Sorted set                   | set            | SortedSet        | TreeSet       |        |\n",
    "\n",
    "confer with the [docs on collections]((https://doc.rust-lang.org/std/collections/index.html)) "
   ]
  },
  {
   "cell_type": "markdown",
   "metadata": {},
   "source": [
    "### 5.2 Vector\n",
    "\n",
    "Operations Explained\n",
    "* arrays are great when the number of elements is known in advance\n",
    "* vectors are greater when we want to handle a changing number of elements\n",
    "* an empty vector is initialized with `Vec::new()`\n",
    "* they can be filled with `vec.push(value)`\n",
    "* a populated vector is initialized with `vec![...]`\n",
    "* elements can be accessed like an array with `vec[idx]`\n",
    "  * note that vectors are also zero-indexed\n",
    "* indeces of an array or vector are typed as `usize` (native to the machine)\n",
    "* accessing indices outside the range of possible elements will crash\n",
    "* `vec.get(idx)` will circumvent this and return an optional value\n",
    "  * rememeber optional value is `Some()` or `None`\n",
    "* you can also iterate over the vector\n",
    "* `vec.pop()` last element can be removed from the vector and stored into another variable\n",
    "  * since a vector can be empty, this will also return an optional value (`Some()` or `None`) \n",
    "\n",
    "confer also with the [docs on vectors](https://doc.rust-lang.org/std/vec/struct.Vec.html)\n",
    "\n",
    "Performance\n",
    "\n",
    "|||||||\n",
    "|--------|--------|-----------|-----------|--------|--------------|\n",
    "|        | get(i) | insert(i) | remove(i) | append | split_off(i) |\n",
    "|`Vec<T>`| $O(1)$ | $O(n-1)$  | $O(n-1)$  | $O(m)$ | $O(n-1)$     |"
   ]
  },
  {
   "cell_type": "code",
   "execution_count": 22,
   "metadata": {
    "vscode": {
     "languageId": "rust"
    }
   },
   "outputs": [
    {
     "name": "stdout",
     "output_type": "stream",
     "text": [
      "vec = [0, 1, 2, 3]\n",
      "vec[1] = 1\n",
      "sum of vec = 6\n",
      "last of vec = 3\n",
      "vec2 = [10, 20, 30, 40]\n",
      "index [6] out of range 4\n"
     ]
    },
    {
     "data": {
      "text/plain": [
       "()"
      ]
     },
     "execution_count": 22,
     "metadata": {},
     "output_type": "execute_result"
    }
   ],
   "source": [
    "fn vector_demo(){\n",
    "    // create & populate\n",
    "    let mut vec = Vec::new();\n",
    "    for x in 0..=3\n",
    "    {\n",
    "     vec.push(x)\n",
    "    }\n",
    "    println!(\"vec = {:?}\", vec);\n",
    "    // create populated\n",
    "    let vec2 = vec![10, 20, 30, 40];\n",
    "    println!(\"vec2 = {:?}\", vec2);\n",
    "    // access\n",
    "    let idx:usize = 1;\n",
    "    println!(\"vec[{}] = {}\", idx, vec[idx]);\n",
    "    // get\n",
    "    let idx:usize = 6;\n",
    "    match vec.get(idx)\n",
    "    {\n",
    "        Some(x) => println!(\"vec[{}] = {}\", idx, x),\n",
    "        None => println!(\"index [{}] out of range {}\", idx, vec.len())\n",
    "    }\n",
    "    // iterate\n",
    "    let mut sum = 0;  \n",
    "    for elem in &vec {sum += elem}\n",
    "    println!(\"sum of vec = {}\", sum);\n",
    "    // pop\n",
    "    let last = vec.pop();\n",
    "    match last\n",
    "    {\n",
    "        Some(x) => println!(\"last of vec = {}\", x),\n",
    "        None => println!(\"vec is empty\"),\n",
    "    }\n",
    "\n",
    "}\n",
    "\n",
    "vector_demo()"
   ]
  },
  {
   "cell_type": "markdown",
   "metadata": {},
   "source": [
    "### 5.3 HashMap\n",
    "\n",
    "Operations explained\n",
    "* a `HashMap` stores pairs of keys and values, where the keys allow fast retrieval of the associated value\n",
    "* it can be imported from the standard libary `collections` with `std::collections::HashMap`\n",
    "* an empty hashmap is initialized with `HashMap::new()`\n",
    "* a populated hashmap can be be created from a vector or array of tuples\n",
    "  * using `vec.into_iter().collect()`\n",
    "  * using `HashMap::frim_iter(vec)`\n",
    "* in the hashmap, values can be accessed by their key like `map[key]` \n",
    "* inserting new elements and overwriting existing elements with `map.insert(key, value)`\n",
    "* to avoid accidently overwriting, use `map.entry(key).or_insert(value)`\n",
    "\n",
    "\n",
    "confer with the [docs on hashmap](https://doc.rust-lang.org/std/collections/hash_map/struct.HashMap.html)\n",
    "\n",
    "Performance\n",
    "\n",
    "|||||\n",
    "|--------|--------|-----------|-----------|\n",
    "|        | get(K) | insert(K,V) | remove(K) |\n",
    "|`HashMap<K,V>`| $O(1)$ | $O(1)$  | $O(1)$  | "
   ]
  },
  {
   "cell_type": "code",
   "execution_count": 39,
   "metadata": {
    "vscode": {
     "languageId": "rust"
    }
   },
   "outputs": [
    {
     "name": "stdout",
     "output_type": "stream",
     "text": [
      "num_map = {\"one\": 1, \"two\": 2, \"three\": 3}\n",
      "a circle has 1 side\n",
      "square : 4\n",
      "triangle : 3\n",
      "a square has 4 sides\n"
     ]
    },
    {
     "data": {
      "text/plain": [
       "()"
      ]
     },
     "execution_count": 39,
     "metadata": {},
     "output_type": "execute_result"
    }
   ],
   "source": [
    "use std::collections::HashMap;\n",
    "\n",
    "fn hashmap_demo()\n",
    "{\n",
    "    // create from vector or array of tuples\n",
    "    let tuples = vec![(\"one\", 1), (\"two\", 2), (\"three\", 3)];\n",
    "    let num_map: HashMap<&str, u32> = tuples.into_iter().collect();\n",
    "    println!(\"num_map = {:?}\", num_map);\n",
    "\n",
    "    // create empty and populate\n",
    "    let mut shapes = HashMap::new();\n",
    "    shapes.insert(String::from(\"triangle\"), 3);\n",
    "    shapes.insert(String::from(\"square\"), 4);\n",
    "    println!(\"a square has {} sides\", shapes[\"square\"]);\n",
    "\n",
    "    // iterate\n",
    "    for (key, value) in &shapes  {println!(\"{} : {}\", key, value);}\n",
    "\n",
    "    // or_insert\n",
    "    shapes.entry(\"circle\".into()).or_insert(1);\n",
    "    println!(\"a circle has {} side\", shapes[\"circle\"]);\n",
    "\n",
    "}\n",
    "\n",
    "hashmap_demo()"
   ]
  },
  {
   "cell_type": "markdown",
   "metadata": {},
   "source": [
    "### 5.4 HashSet\n",
    "\n",
    "Operations explained\n",
    "* every programming language has and needs a collection type that represent a mathematical set\n",
    "  * all elements are unique and the order does not matter\n",
    "* adding duplicate element will not have any effect\n",
    "  * but every insert operation will also return a boolean, whether or not the insert succeeded\n",
    "  * likewise remove operation will return a boolean, whether or not the removal succeeded\n",
    "\n",
    "confer with the [docs on hashset](https://doc.rust-lang.org/std/collections/struct.HashSet.html)"
   ]
  },
  {
   "cell_type": "code",
   "execution_count": 48,
   "metadata": {
    "vscode": {
     "languageId": "rust"
    }
   },
   "outputs": [
    {
     "name": "stdout",
     "output_type": "stream",
     "text": [
      "greeks has {\"beta\", \"gamma\", \"alpha\"}\n",
      "we added vega\n",
      "we don't have kappa\n",
      "is {1, 3, 2, 5, 4} disjoint of {6, 9, 7, 8, 10}? true\n",
      "is {7, 2, 3, 5, 6, 8, 4} a subset of {3, 8, 4, 5, 6, 9, 2, 10, 1, 7}? true\n"
     ]
    },
    {
     "data": {
      "text/plain": [
       "()"
      ]
     },
     "execution_count": 48,
     "metadata": {},
     "output_type": "execute_result"
    }
   ],
   "source": [
    "use std::collections::HashSet;\n",
    "\n",
    "fn hashset_demo()\n",
    "{   \n",
    "    // create and populate\n",
    "    let mut greeks = HashSet::new();\n",
    "    greeks.insert(\"alpha\");\n",
    "    greeks.insert(\"beta\");\n",
    "    greeks.insert(\"gamma\");\n",
    "    println!(\"greeks has {:?}\", greeks);\n",
    "    // insert and check\n",
    "    let add_vega = greeks.insert(\"vega\");\n",
    "    if add_vega {println!(\"we added vega\");}\n",
    "    // cantains check\n",
    "    if greeks.contains(\"kappa\") {println!(\"we have kappa\");}\n",
    "    else {println!(\"we don't have kappa\");}\n",
    "    // remove and check\n",
    "    let remove_delta = greeks.remove(\"delta\");\n",
    "    if remove_delta {println!(\"we removed delta\");}\n",
    "}\n",
    "\n",
    "hashset_demo();"
   ]
  },
  {
   "cell_type": "code",
   "execution_count": 49,
   "metadata": {
    "vscode": {
     "languageId": "rust"
    }
   },
   "outputs": [
    {
     "name": "stdout",
     "output_type": "stream",
     "text": [
      "is {3, 4, 5, 2, 6, 8, 7} a subset of {2, 5, 4, 6, 3, 7, 9, 8, 10, 1}? true\n",
      "items in {3, 4, 5, 2, 6, 8, 7} and {6, 10, 7, 8, 9} are combined [3, 4, 5, 2, 6, 8, 7, 10, 9]\n",
      "items in both {3, 4, 5, 2, 6, 8, 7} and {6, 10, 7, 8, 9} are [6, 7, 8]\n",
      "is {2, 3, 4, 5, 1} disjoint of {6, 10, 7, 8, 9}? true\n"
     ]
    },
    {
     "data": {
      "text/plain": [
       "()"
      ]
     },
     "execution_count": 49,
     "metadata": {},
     "output_type": "execute_result"
    }
   ],
   "source": [
    "fn set_math()\n",
    "{\n",
    "    // create and populate with range\n",
    "    let set_1_5: HashSet<_> = (1..=5).collect();\n",
    "    let set_6_10: HashSet<_> = (6..=10).collect();\n",
    "    let set_1_10: HashSet<_> = (1..=10).collect();\n",
    "    let set_2_8: HashSet<_> = (2..=8).collect();\n",
    "\n",
    "    // subset\n",
    "    println!(\n",
    "        \"is {:?} a subset of {:?}? {}\",\n",
    "        set_2_8, set_1_10,\n",
    "        set_2_8.is_subset(&set_1_10)\n",
    "    );\n",
    "\n",
    "    // disjoint\n",
    "    println!(\n",
    "        \"is {:?} disjoint of {:?}? {}\",\n",
    "        set_1_5, set_6_10,\n",
    "        set_1_5.is_disjoint(&set_6_10)\n",
    "    );\n",
    "\n",
    "    // union\n",
    "    println!(\n",
    "        \"items in {:?} and {:?} are combined {:?}\",\n",
    "        set_2_8, set_6_10,\n",
    "        set_2_8.union(&set_6_10)\n",
    "    );\n",
    "\n",
    "    // intersection\n",
    "    println!(\n",
    "        \"items in both {:?} and {:?} are {:?}\",\n",
    "        set_2_8, set_6_10,\n",
    "        set_2_8.intersection(&set_6_10)\n",
    "    );\n",
    "\n",
    "}\n",
    "\n",
    "set_math()"
   ]
  },
  {
   "cell_type": "markdown",
   "metadata": {},
   "source": [
    "### 5.5 Iterators\n",
    "\n",
    "* iteration has more flexibility that we previously ignored\n",
    "* iteration are activities were each element of a collection is considered\n",
    "* to use collections in `for` loops, the collection type needs to be borrowed `&` otherwise it is permanently consumed\n",
    "* alternatively, you can get\n",
    "  * an immutable reference to the elements with `vec.iter()`\n",
    "  * or a mutable reference to the elements with `vec.iter_mut()`\n",
    "* to reverse the order for iterations use `vec.iter().rev()`\n",
    "* you can also combined collections with `vec2.extend(vec1)`\n",
    "  * however, this consumes the `vec1` collection and it can no longer be used"
   ]
  },
  {
   "cell_type": "code",
   "execution_count": 50,
   "metadata": {
    "vscode": {
     "languageId": "rust"
    }
   },
   "outputs": [
    {
     "name": "stdout",
     "output_type": "stream",
     "text": [
      "3\n",
      "2\n",
      "in reverse: 2\n",
      "we got 2\n",
      "1\n",
      "in reverse: 3\n",
      "we got 1\n",
      "[5, 4, 3]\n",
      "in reverse: 1\n",
      "[1, 2, 3, 5, 4, 3]\n",
      "we got 3\n"
     ]
    },
    {
     "data": {
      "text/plain": [
       "()"
      ]
     },
     "execution_count": 50,
     "metadata": {},
     "output_type": "execute_result"
    }
   ],
   "source": [
    "fn iter_demo()\n",
    "{\n",
    "  let mut vec = vec![3, 2, 1];\n",
    "  // ordinary iteration causes a move\n",
    "  for x in &vec\n",
    "  {\n",
    "    println!(\"{}\", *x);\n",
    "  }\n",
    "\n",
    "  // iter() = a bunch of immutable references\n",
    "  for x in vec.iter()\n",
    "  {\n",
    "    println!(\"we got {}\", x);\n",
    "    // cannot modify things!\n",
    "    // x += 1;\n",
    "  }\n",
    "\n",
    "  // iter adapter methods\n",
    "  for x in vec.iter().rev()\n",
    "  {\n",
    "    println!(\"in reverse: {}\", x);\n",
    "  }\n",
    "\n",
    "  // iter_mut() - mutable references, requires\n",
    "  //              the vector to be declared mut\n",
    "  for x in vec.iter_mut()\n",
    "  {\n",
    "    *x += 2;\n",
    "  }\n",
    "  println!(\"{:?}\", vec);\n",
    "\n",
    "  // into_iter() - move operation that transforms the collection into a by-value iterator\n",
    "  //               not the same as ordinary iteration!\n",
    "  //               useful when you need values but not the collection itself\n",
    "  // extend() - automatically calls into_iter() to move elements from one collection to another\n",
    "  let mut vec2 = vec![1, 2, 3];\n",
    "  vec2.extend(vec);\n",
    "  println!(\"{:?}\", vec2);\n",
    "  }\n",
    "\n",
    "  iter_demo()"
   ]
  }
 ],
 "metadata": {
  "kernelspec": {
   "display_name": "Rust",
   "language": "rust",
   "name": "rust"
  },
  "language_info": {
   "codemirror_mode": "rust",
   "file_extension": ".rs",
   "mimetype": "text/rust",
   "name": "Rust",
   "pygment_lexer": "rust",
   "version": ""
  },
  "orig_nbformat": 4
 },
 "nbformat": 4,
 "nbformat_minor": 2
}
