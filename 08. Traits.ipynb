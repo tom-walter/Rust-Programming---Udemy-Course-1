{
 "cells": [
  {
   "cell_type": "markdown",
   "metadata": {},
   "source": [
    "## 8. Traits\n",
    "### 8.1 Traits\n",
    "\n",
    "* traits are specific to OOP in Rust programming\n",
    "* __Rust does not have inheritance__ like other programming langauges\n",
    "* if two objects should share the same or a very similar method, this is called a trait\n",
    "* `trait` allows to create an abstract parent class with certain features that can be shared by the child classes\n",
    "  * these features can be implemented as \"empty\" just by their signature\n",
    "  * or with a default function\n",
    "* then these `trait`s can passed along to a `struct` (class) via the `impl`\n",
    "  * does \"inheritance\" is explicitly modelled rather than implictily passed\n",
    "  * to produce more `struct`s on the fly, a `trait` can also have a static method called `create() -> Self` (a factory function)\n",
    "* instances of classes can then be instantiated\n",
    "  * from `struct` \n",
    "  * from the factory method\n",
    "  * from the trait with typing\n",
    "\n",
    "\n",
    "Example\n",
    "* code the following example with Animal as `trait`\n",
    "* implement its methods onto the `struct`s Human and Cat\n",
    "\n",
    "```consol\n",
    "Animal\n",
    "├── create() -> Self\n",
    "├── name \n",
    "└── talk()\n",
    "\n",
    "Human\n",
    "├── create() -> self\n",
    "├── name\n",
    "└── talk()\n",
    "\n",
    "Cat\n",
    "├── create() -> self\n",
    "├── name\n",
    "└── talk()\n",
    "```"
   ]
  },
  {
   "cell_type": "code",
   "execution_count": 2,
   "metadata": {
    "vscode": {
     "languageId": "rust"
    }
   },
   "outputs": [
    {
     "name": "stdout",
     "output_type": "stream",
     "text": [
      "Tom says hello!\n",
      "Katze says meow!\n",
      "John says hello!\n",
      "Gato says meow!\n"
     ]
    },
    {
     "data": {
      "text/plain": [
       "()"
      ]
     },
     "execution_count": 2,
     "metadata": {},
     "output_type": "execute_result"
    }
   ],
   "source": [
    "// abstract-level Animal\n",
    "trait Animal\n",
    "{\n",
    "    fn create(name: &'static str) -> Self;\n",
    "\n",
    "    fn name(&self) -> &'static str;\n",
    "\n",
    "    fn talk(&self)\n",
    "    {println!(\"{} cannot talk\", self.name());}\n",
    "}\n",
    "\n",
    "// class-level Human\n",
    "struct Human\n",
    "{\n",
    "    name: &'static str\n",
    "}\n",
    "\n",
    "impl Animal for Human\n",
    "{\n",
    "    fn create(name: &'static str) -> Human\n",
    "    {Human{name: name}}\n",
    "    \n",
    "    fn name(&self) -> &'static str\n",
    "    {return self.name}\n",
    "\n",
    "    fn talk(&self)\n",
    "    {println!(\"{} says hello!\", self.name());}\n",
    "}\n",
    "\n",
    "// class-level Cat\n",
    "struct Cat\n",
    "{\n",
    "    name: &'static str\n",
    "}\n",
    "\n",
    "impl Animal for Cat\n",
    "{\n",
    "    fn create(name: &'static str) -> Cat\n",
    "    {Cat{name: name}}\n",
    "\n",
    "    fn name(&self) -> &'static str\n",
    "    {return self.name}\n",
    "\n",
    "    fn talk(&self)\n",
    "    {println!(\"{} says meow!\", self.name());}\n",
    "}\n",
    "\n",
    "fn traits_demo()\n",
    "{\n",
    "    // instantiate from struct\n",
    "    let h = Human{name: \"Tom\"};\n",
    "    h.talk();\n",
    "    let c1 = Cat{name: \"Gato\"};\n",
    "    c1.talk();\n",
    "    // instantiate from factory\n",
    "    let c2 = Cat::create(\"Katze\");\n",
    "    c2.talk();\n",
    "    // instantiate from trait\n",
    "    let h2: Human = Animal::create(\"John\");\n",
    "    h2.talk();\n",
    "}\n",
    "\n",
    "traits_demo()"
   ]
  },
  {
   "cell_type": "markdown",
   "metadata": {},
   "source": [
    "* we can also use `trait` + `impl` to monkey patch additional functions onto existing generic types\n",
    "* let's add a summation to the generic vector "
   ]
  },
  {
   "cell_type": "code",
   "execution_count": 3,
   "metadata": {
    "vscode": {
     "languageId": "rust"
    }
   },
   "outputs": [
    {
     "name": "stdout",
     "output_type": "stream",
     "text": [
      "sum of a = 10\n"
     ]
    },
    {
     "data": {
      "text/plain": [
       "()"
      ]
     },
     "execution_count": 3,
     "metadata": {},
     "output_type": "execute_result"
    }
   ],
   "source": [
    "trait Summable<T>\n",
    "{\n",
    "    fn sum(&self) -> T;\n",
    "}\n",
    "\n",
    "impl Summable<i32> for Vec<i32>\n",
    "{\n",
    "    fn sum(&self) -> i32\n",
    "    {\n",
    "        let mut result:i32 = 0;\n",
    "        for x in self{result += *x;}\n",
    "        return result;\n",
    "    }\n",
    "}\n",
    "\n",
    "let a = vec![1, 2, 3, 4];\n",
    "println!(\"sum of a = {}\", a.sum())"
   ]
  },
  {
   "cell_type": "markdown",
   "metadata": {},
   "source": [
    "### 8.2 Trait Parameter\n",
    "\n",
    "* now we can use `trait`s as parameters in functions\n",
    "* there are 3 different ways to specify a `trait` parameter:\n",
    "1. with an `impl` & `trait` in the signature:\n",
    "  * `fn func(shape: impl Shape + Debug)`\n",
    "2. with generic type & `trait` in the signature:\n",
    "  * `fn print_info<T: Shape + Debug>(shape: T)`\n",
    "3. with `where` clause in the function signature:\n",
    "  * `fn print_info<T>(shape: T) where T: Shape + Debug`\n",
    "\n",
    "\n",
    "Example\n",
    "* create 2 simple geometric shapes: a Circle and a Square (as `struct`s) \n",
    "* create the `trait` Shape with an Area method\n",
    "* create `impl`ementations of the Area `trait` for each Shape\n",
    "  * $A_{square} = side ^2$\n",
    "  * $A_{circle} = radius ^2 * \\pi$"
   ]
  },
  {
   "cell_type": "code",
   "execution_count": 4,
   "metadata": {
    "vscode": {
     "languageId": "rust"
    }
   },
   "outputs": [],
   "source": [
    "use std::fmt::Debug;\n",
    "\n",
    "// our 2 simple shapes\n",
    "#[derive(Debug)]\n",
    "struct Circle {radius: f64,}\n",
    "#[derive(Debug)]\n",
    "struct Square {side: f64,}\n",
    "\n",
    "// trait for Shape with Area\n",
    "trait Shape\n",
    "{\n",
    "    fn area(&self) -> f64;\n",
    "}\n",
    "\n",
    "// implement area for square\n",
    "impl Shape for Square {\n",
    "    fn area(&self) -> f64 {\n",
    "        self.side.powi(2)\n",
    "    }\n",
    "}\n",
    "\n",
    "// implement area for circle\n",
    "impl Shape for Circle {\n",
    "    fn area(&self) -> f64 {\n",
    "        self.radius.powi(2) * std::f64::consts::PI\n",
    "    }\n",
    "}"
   ]
  },
  {
   "cell_type": "code",
   "execution_count": 5,
   "metadata": {
    "vscode": {
     "languageId": "rust"
    }
   },
   "outputs": [
    {
     "name": "stdout",
     "output_type": "stream",
     "text": [
      "Circle { radius: 2.0 }\n",
      "Square { side: 4.0 }\n",
      "The area is 16\n",
      "The area is 12.566370614359172\n"
     ]
    },
    {
     "data": {
      "text/plain": [
       "()"
      ]
     },
     "execution_count": 5,
     "metadata": {},
     "output_type": "execute_result"
    }
   ],
   "source": [
    "//fn print_info(shape: impl Shape + Debug)\n",
    "//fn print_info<T: Shape + Debug>(shape: T)\n",
    "fn print_info<T>(shape: T)\n",
    "  where T: Shape + Debug\n",
    "{\n",
    "  println!(\"{:?}\", shape);\n",
    "  println!(\"The area is {}\", shape.area());\n",
    "}\n",
    "\n",
    "fn trait_param_demo() {\n",
    "  let c = Circle { radius: 2.0 };\n",
    "  print_info(c);\n",
    "  let sq = Square { side: 4.0 };\n",
    "  print_info(sq);\n",
    "}\n",
    "\n",
    "trait_param_demo()"
   ]
  },
  {
   "cell_type": "markdown",
   "metadata": {},
   "source": [
    "### 8.3 Into\n",
    "\n",
    "* `Into` is powerful build in `trait` that helps transfer data between data types, objects & collections\n",
    "* `Into` allows for automatic type conversion \n",
    "* it can be build in 2 different ways\n",
    "1. with generic type & `trait` in the function signature:\n",
    "* `fn new<S: Into<String>>(name: S) -> Person`\n",
    "2. with the `where` clause in the function signature\n",
    "* `fn new<S>(name: S) -> Person where S: Into<String>` "
   ]
  },
  {
   "cell_type": "code",
   "execution_count": 6,
   "metadata": {
    "vscode": {
     "languageId": "rust"
    }
   },
   "outputs": [
    {
     "data": {
      "text/plain": [
       "()"
      ]
     },
     "execution_count": 6,
     "metadata": {},
     "output_type": "execute_result"
    }
   ],
   "source": [
    "struct Person {name: String}\n",
    "\n",
    "impl Person\n",
    "{\n",
    "    // fn new(name: &str) -> Person\n",
    "    // {\n",
    "    //     Person{name: name.to_string()}\n",
    "    // }\n",
    "    fn new<S: Into<String>>(name: S) -> Person\n",
    "    {\n",
    "        Person{name: name.into()}\n",
    "    }\n",
    "}\n",
    "\n",
    "fn into_demo(){\n",
    "    // directly instantiating\n",
    "    let john = Person::new(\"John\");\n",
    "    // indirectly instantiating\n",
    "    let name = \"Jane\".to_string();\n",
    "    // no forced conversion with as_ref() thanks to Into\n",
    "    let jane = Person::new(name/*.as_ref()*/); \n",
    "}\n",
    "\n",
    "into_demo()"
   ]
  },
  {
   "cell_type": "markdown",
   "metadata": {},
   "source": [
    "### 8.4 Drop\n",
    "\n",
    "* `Drop` is another simple but powerful `trait`\n",
    "* it is a destructor (similar to other language)\n",
    "* the `drop()` method gets automatically invoked at the end of the scope (where instance was created)"
   ]
  },
  {
   "cell_type": "code",
   "execution_count": 7,
   "metadata": {
    "vscode": {
     "languageId": "rust"
    }
   },
   "outputs": [],
   "source": [
    "struct Creature{name: String}\n",
    "\n",
    "impl Creature{\n",
    "    fn new(name: &str) -> Creature{\n",
    "        println!(\"{} enters the game.\", name);\n",
    "        Creature {name: name.into()}\n",
    "    }\n",
    "}\n",
    "\n",
    "impl Drop for Creature{\n",
    "    fn drop(&mut self){\n",
    "        println!(\"{} is dead.\", self.name);\n",
    "    }\n",
    "}"
   ]
  },
  {
   "cell_type": "code",
   "execution_count": 8,
   "metadata": {
    "vscode": {
     "languageId": "rust"
    }
   },
   "outputs": [
    {
     "name": "stdout",
     "output_type": "stream",
     "text": [
      "Goblin enters the game.\n",
      "Game procceeds...\n",
      "Goblin is dead.\n"
     ]
    },
    {
     "data": {
      "text/plain": [
       "()"
      ]
     },
     "execution_count": 8,
     "metadata": {},
     "output_type": "execute_result"
    }
   ],
   "source": [
    "fn drop_demo()\n",
    "{\n",
    "    let goblin = Creature::new(\"Goblin\");\n",
    "    println!(\"Game procceeds...\");\n",
    "}\n",
    "\n",
    "drop_demo()"
   ]
  },
  {
   "cell_type": "markdown",
   "metadata": {},
   "source": [
    "### 8.5 Operator Overloading\n",
    "\n",
    "* operator overloading is done using `trait`s in Rust\n",
    "* operators are taken from standard library 'std::ops'\n",
    "\n",
    "Example\n",
    "* create a `struct` for Complex numbers (consisting of a real part & an imaginary part)\n",
    "* with any further implementation, you cannot add these Complex numbers together\n",
    "  * compiler will `note: the trait 'Add' must be implemented`\n",
    "  * addition of complex number is done by the component elements\n",
    "* building a operators between two objects of the same type follows template of\n",
    "  * `self plus other` or `self minus other`, etc.\n",
    "  * `rhs` (right-hand side) or `other` are used in Rust"
   ]
  },
  {
   "cell_type": "code",
   "execution_count": 9,
   "metadata": {
    "vscode": {
     "languageId": "rust"
    }
   },
   "outputs": [
    {
     "name": "stdout",
     "output_type": "stream",
     "text": [
      "Complex { real: 4.0, imaginary: 6.0 }\n"
     ]
    }
   ],
   "source": [
    "#[allow(unused)]\n",
    "use std::ops::{Add};\n",
    "use std::fmt::Debug;\n",
    "\n",
    "// type for complex numbers\n",
    "#[derive(Debug)] // #[derive(PartialEq, Eq, PartialOrd, Ord)] \n",
    "struct Complex<T>\n",
    "{\n",
    "    real: T,\n",
    "    imaginary: T,\n",
    "}\n",
    "\n",
    "\n",
    "impl<T> Complex<T>\n",
    "{\n",
    "    fn new(real: T, imaginary: T) -> Complex<T>{\n",
    "        Complex::<T> {real, imaginary}\n",
    "    }\n",
    "}\n",
    "\n",
    "impl<T> Add for Complex<T>\n",
    "    where T: Add<Output = T>\n",
    "{\n",
    "    type Output = Complex<T>;\n",
    "    // adding 2 complex numbers returns a complex num\n",
    "    fn add(self, rhs: Self) -> Self::Output\n",
    "    {\n",
    "        Complex{\n",
    "            real: self.real + rhs.real,\n",
    "            imaginary: self.imaginary + rhs.imaginary\n",
    "        }\n",
    "    }\n",
    "}\n",
    "\n",
    "let mut a = Complex::new(1.0, 2.0);\n",
    "let mut b = Complex::new(3.0, 4.0);\n",
    "\n",
    "println!(\"{:?}\", a + b);"
   ]
  },
  {
   "cell_type": "markdown",
   "metadata": {},
   "source": [
    "* we can also implement the `AddAssign` operator for our Complex number"
   ]
  },
  {
   "cell_type": "code",
   "execution_count": 10,
   "metadata": {
    "vscode": {
     "languageId": "rust"
    }
   },
   "outputs": [
    {
     "name": "stdout",
     "output_type": "stream",
     "text": [
      "Complex { real: 4.0, imaginary: 6.0 }\n"
     ]
    },
    {
     "data": {
      "text/plain": [
       "()"
      ]
     },
     "execution_count": 10,
     "metadata": {},
     "output_type": "execute_result"
    }
   ],
   "source": [
    "use std::ops::{AddAssign};\n",
    "\n",
    "impl<T> AddAssign for Complex<T>\n",
    "    where T: AddAssign<T>\n",
    "{\n",
    "    fn add_assign(&mut self, rhs: Self)\n",
    "    {\n",
    "        self.real += rhs.real;\n",
    "        self.imaginary += rhs.imaginary;\n",
    "    }\n",
    "}\n",
    "\n",
    "let mut a = Complex::new(1.0, 2.0);\n",
    "let mut b = Complex::new(3.0, 4.0);\n",
    "\n",
    "a += b;\n",
    "println!(\"{:?}\", a)"
   ]
  },
  {
   "cell_type": "markdown",
   "metadata": {},
   "source": [
    "* we can also implement the `Neg` operator for our Complex number"
   ]
  },
  {
   "cell_type": "code",
   "execution_count": 11,
   "metadata": {
    "vscode": {
     "languageId": "rust"
    }
   },
   "outputs": [
    {
     "name": "stdout",
     "output_type": "stream",
     "text": [
      "Complex { real: -1.0, imaginary: -2.0 }\n"
     ]
    },
    {
     "data": {
      "text/plain": [
       "()"
      ]
     },
     "execution_count": 11,
     "metadata": {},
     "output_type": "execute_result"
    }
   ],
   "source": [
    "use std::ops::{Neg};\n",
    "\n",
    "impl<T> Neg for Complex<T>\n",
    "    where T: Neg<Output = T>\n",
    "{\n",
    "    type Output = Complex<T>;\n",
    "    // negating a complex num\n",
    "    fn neg(self) -> Self::Output\n",
    "    {\n",
    "        Complex{\n",
    "            real: -self.real,\n",
    "            imaginary: -self.imaginary\n",
    "        }\n",
    "    }\n",
    "}\n",
    "\n",
    "let mut a = Complex::new(1.0, 2.0);\n",
    "println!(\"{:?}\", -a)"
   ]
  },
  {
   "cell_type": "markdown",
   "metadata": {},
   "source": [
    "Comparibility\n",
    "\n",
    "* with many custom data `struct`s, it is desirable to compare\n",
    "  * comparibility allows them to be sorted in collection\n",
    "  * these `trait`s can also be derived with `#[derive(PartialEq, Eq, PartialOrd, Ord)]`\n",
    "* there are 2 types of equality in Rust\n",
    "* 1. partial_eq and 2. (full) eq\n",
    "  * full equality is not possible with float numbers\n",
    "  * because of special cases like `NAN` = not a number (`0/0` or `inf/inf`)\n",
    "  * also `NAN == NAN -> false`"
   ]
  },
  {
   "cell_type": "code",
   "execution_count": 12,
   "metadata": {
    "vscode": {
     "languageId": "rust"
    }
   },
   "outputs": [
    {
     "name": "stdout",
     "output_type": "stream",
     "text": [
      "a==a is true\n"
     ]
    }
   ],
   "source": [
    "// std::cmp::{par}\n",
    "impl<T> PartialEq for Complex<T>\n",
    "    where T: PartialEq\n",
    "{\n",
    "    fn eq(&self, rhs: &Self) -> bool\n",
    "    {\n",
    "        self.real == rhs.real && self.imaginary == rhs.imaginary\n",
    "    }\n",
    "\n",
    "    fn ne(&self, rhs: &Self) -> bool\n",
    "    {\n",
    "        self.real != rhs.real && self.imaginary != rhs.imaginary\n",
    "    }\n",
    "}\n",
    "\n",
    "let mut a = Complex::new(1.0, 2.0);\n",
    "\n",
    "println!(\"a==a is {}\", a == a);"
   ]
  },
  {
   "cell_type": "markdown",
   "metadata": {},
   "source": [
    "### 8.6 Static Dispatch\n",
    "\n",
    "* dispatch is helping the compiler know what to call\n",
    "* there are two kinds of dispatch in Rust:\n",
    "  * 1 __static__: pre-determined\n",
    "  * 2 __dynamic__: determined at run-time\n",
    "* with static dispath, a function calls on a specific implementation of the variable\n",
    "  * the type of variable has a implementation for this purpose\n",
    "* in Rust, we can make use of __monomorphization__ [(source)](https://rustc-dev-guide.rust-lang.org/backend/monomorph.html)\n",
    "  * Rust has a very expressive type system inluding generic types\n",
    "  * but at run-time all variables need to have concrete type\n",
    "  * to do so, Rust _monomorphizes_ all generic types\n",
    "  * the compiler makes copies of the code for each specific type needed\n",
    "  * this means faster programs but slower compile time\n",
    "* for the example code, see also [trait objects](https://doc.rust-lang.org/reference/types/trait-object.html)"
   ]
  },
  {
   "cell_type": "code",
   "execution_count": 13,
   "metadata": {
    "vscode": {
     "languageId": "rust"
    }
   },
   "outputs": [
    {
     "name": "stdout",
     "output_type": "stream",
     "text": [
      "i32: 123\n",
      "string: hello\n"
     ]
    },
    {
     "data": {
      "text/plain": [
       "()"
      ]
     },
     "execution_count": 13,
     "metadata": {},
     "output_type": "execute_result"
    }
   ],
   "source": [
    "trait Printable\n",
    "{ fn format(&self) -> String; }\n",
    "\n",
    "impl Printable for i32\n",
    "{\n",
    "    fn format(&self) -> String{\n",
    "        format!(\"i32: {}\", *self)\n",
    "    }\n",
    "}\n",
    "\n",
    "impl Printable for String\n",
    "{\n",
    "    fn format(&self) -> String{\n",
    "        format!(\"string: {}\", *self)\n",
    "    }\n",
    "}\n",
    "\n",
    "// monomorphizable function\n",
    "fn print_it<T: Printable>(z: T){\n",
    "    println!(\"{}\", z.format());\n",
    "}\n",
    "\n",
    "let a = 123;\n",
    "let b = \"hello\".to_string();\n",
    "\n",
    "print_it(a);\n",
    "print_it(b)"
   ]
  },
  {
   "cell_type": "markdown",
   "metadata": {},
   "source": [
    "### 8.7 Dynamic Dispatch\n",
    "\n",
    "* dynamic dispatch uses not a generic type but rather a reference\n",
    "  * thus, the function call must be to referenced dynamic variables\n",
    "    * `&` -> reference and `dyn` -> dynamic\n",
    "  * the function will look for the specific implementation\n",
    "  * it cannot be inferred at compile-time (because variables are not yet created)\n",
    "  * the type is checked at run-time, which makes the function more expensive\n",
    "    * opposite of the before (faster compile, slower run-time)"
   ]
  },
  {
   "cell_type": "code",
   "execution_count": 14,
   "metadata": {
    "vscode": {
     "languageId": "rust"
    }
   },
   "outputs": [
    {
     "name": "stdout",
     "output_type": "stream",
     "text": [
      "i32: 123\n",
      "string: hello\n"
     ]
    },
    {
     "data": {
      "text/plain": [
       "()"
      ]
     },
     "execution_count": 14,
     "metadata": {},
     "output_type": "execute_result"
    }
   ],
   "source": [
    "fn print_it_too(z: &dyn Printable){\n",
    "    println!(\"{}\", z.format());\n",
    "}\n",
    "\n",
    "let a = 123;\n",
    "let b = \"hello\".to_string();\n",
    "\n",
    "print_it_too(&a); // & -> reference to trait object\n",
    "print_it_too(&b)"
   ]
  },
  {
   "cell_type": "markdown",
   "metadata": {},
   "source": [
    "### 8.8 Why Dynamic Dispatch\n",
    "\n",
    "* from the discussion of pros and cons of static and dynamic dispatch, the safer and more efficient way seems to always use static dispatch\n",
    "* but certain problems in OOP can only be solved witb dynamic dispatch\n",
    "* example:\n",
    "  * if various `struct`s (child classes) have the same `trait` (parent class)\n",
    "  * when iterating over an array of these classes the compiler cannot know which specific `impl`ementation of the `trait` they posses\n",
    "  * so the implemenation must be looked up dynamically for each specific `struct` at run-time"
   ]
  },
  {
   "cell_type": "code",
   "execution_count": 15,
   "metadata": {
    "vscode": {
     "languageId": "rust"
    }
   },
   "outputs": [],
   "source": [
    "// reuse the shapes structs\n",
    "// struct Circle {radius: f64,}\n",
    "// struct Square {side: f64,}\n",
    "#[derive(Debug)]\n",
    "struct Triangle {a: f64, b: f64,}\n",
    "\n",
    "\n",
    "// implement area for right triangle\n",
    "impl Shape for Triangle {\n",
    "    fn area(&self) -> f64 {\n",
    "        self.a * self.b * 0.5}\n",
    "}"
   ]
  },
  {
   "cell_type": "code",
   "execution_count": 16,
   "metadata": {
    "vscode": {
     "languageId": "rust"
    }
   },
   "outputs": [
    {
     "name": "stdout",
     "output_type": "stream",
     "text": [
      "Shape #0 has area 3.141592653589793\n",
      "Shape #2 has area 3\n",
      "Shape #3 has area 16\n",
      "Shape #1 has area 9\n"
     ]
    },
    {
     "data": {
      "text/plain": [
       "()"
      ]
     },
     "execution_count": 16,
     "metadata": {},
     "output_type": "execute_result"
    }
   ],
   "source": [
    "fn demo_dyn_dispatch()\n",
    "{   // array of 4 shapes\n",
    "    let shapes:[&dyn Shape; 4] = [\n",
    "        &Circle{radius: 1.0},\n",
    "        &Square{side: 3.0},\n",
    "        &Triangle{a: 2.0, b: 3.0},\n",
    "        &Square{side: 4.0},\n",
    "    ];\n",
    "\n",
    "    for (i, shape) in shapes.iter().enumerate(){\n",
    "        // during run-time the program look what is the shape\n",
    "        // then it looks up the implementation for the area\n",
    "        println!(\"Shape #{} has area {}\", i, shape.area());\n",
    "    }\n",
    "}\n",
    "\n",
    "demo_dyn_dispatch()"
   ]
  },
  {
   "cell_type": "markdown",
   "metadata": {},
   "source": [
    "### 8.9 Vectors of Different Object\n",
    "\n",
    "* what about vectors of different objects?\n",
    "* there are two ways: 1. enums and 2. trait objects\n",
    "\n",
    "_not working like it does in the lecture_"
   ]
  },
  {
   "cell_type": "code",
   "execution_count": 31,
   "metadata": {
    "vscode": {
     "languageId": "rust"
    }
   },
   "outputs": [
    {
     "ename": "Error",
     "evalue": "no variant or associated item named `new` found for enum `Creature` in the current scope",
     "output_type": "error",
     "traceback": [
      "\u001b[31m[E0599] Error:\u001b[0m no variant or associated item named `new` found for enum `Creature` in the current scope",
      "   \u001b[38;5;246m╭\u001b[0m\u001b[38;5;246m─\u001b[0m\u001b[38;5;246m[\u001b[0mcommand_31:1:1\u001b[38;5;246m]\u001b[0m",
      "   \u001b[38;5;246m│\u001b[0m",
      " \u001b[38;5;246m1 │\u001b[0m \u001b[38;5;54me\u001b[0m\u001b[38;5;54mn\u001b[0m\u001b[38;5;54mu\u001b[0m\u001b[38;5;54mm\u001b[0m\u001b[38;5;54m \u001b[0m\u001b[38;5;54mC\u001b[0m\u001b[38;5;54mr\u001b[0m\u001b[38;5;54me\u001b[0m\u001b[38;5;54ma\u001b[0m\u001b[38;5;54mt\u001b[0m\u001b[38;5;54mu\u001b[0m\u001b[38;5;54mr\u001b[0m\u001b[38;5;54me\u001b[0m\u001b[38;5;249m{\u001b[0m",
      " \u001b[38;5;240m  │\u001b[0m \u001b[38;5;54m─\u001b[0m\u001b[38;5;54m─\u001b[0m\u001b[38;5;54m─\u001b[0m\u001b[38;5;54m─\u001b[0m\u001b[38;5;54m─\u001b[0m\u001b[38;5;54m─\u001b[0m\u001b[38;5;54m┬\u001b[0m\u001b[38;5;54m─\u001b[0m\u001b[38;5;54m─\u001b[0m\u001b[38;5;54m─\u001b[0m\u001b[38;5;54m─\u001b[0m\u001b[38;5;54m─\u001b[0m\u001b[38;5;54m─\u001b[0m  ",
      " \u001b[38;5;240m  │\u001b[0m       \u001b[38;5;54m╰\u001b[0m\u001b[38;5;54m─\u001b[0m\u001b[38;5;54m─\u001b[0m\u001b[38;5;54m─\u001b[0m\u001b[38;5;54m─\u001b[0m\u001b[38;5;54m─\u001b[0m\u001b[38;5;54m─\u001b[0m\u001b[38;5;54m─\u001b[0m\u001b[38;5;54m─\u001b[0m variant or associated item `new` not found for this enum",
      "\u001b[38;5;246m───╯\u001b[0m"
     ]
    }
   ],
   "source": [
    "enum Creature{\n",
    "    Human(Human),\n",
    "    Cat(Cat),\n",
    "}\n",
    "\n",
    "let creatures = Vec::new();\n",
    "creatures.push(Creature::Human(Human{name: \"John\"}));\n",
    "creatures.push(Creature::Cat(Cat{name: \"Fluffy\"}));\n",
    "\n",
    "for c in creatures{\n",
    "    match c {\n",
    "        Creature::Human(h) => h.talk(),\n",
    "        Creature::Cat(k) => k.talk(),\n",
    "    }\n",
    "}\n",
    "\n",
    "// let mut animals:Vec<Box<dyn Animal>> = Vec::new();\n",
    "// animals.push(Box::new(Human{name: \"John\"}));\n",
    "// animals.push(Box::new(Cat{name: \"Fluffy\"}));\n"
   ]
  }
 ],
 "metadata": {
  "kernelspec": {
   "display_name": "Rust",
   "language": "rust",
   "name": "rust"
  },
  "language_info": {
   "codemirror_mode": "rust",
   "file_extension": ".rs",
   "mimetype": "text/rust",
   "name": "Rust",
   "pygment_lexer": "rust",
   "version": ""
  },
  "orig_nbformat": 4
 },
 "nbformat": 4,
 "nbformat_minor": 2
}
