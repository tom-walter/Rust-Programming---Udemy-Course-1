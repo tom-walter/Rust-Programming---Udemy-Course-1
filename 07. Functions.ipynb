{
 "cells": [
  {
   "cell_type": "markdown",
   "metadata": {},
   "source": [
    "## 7. Functions\n",
    "### 7.1 Functions and Function Arguments\n",
    "\n",
    "What is a Function?\n",
    "\n",
    "* a function is block of code that executes a set of operations or instructions\n",
    "* usually these functions group the code into units that belong together by some logic or responsibility\n",
    "* the keyword `fn` defines a a function, curly braces `{}` provide the scope, and round braces `()` are the interface\n",
    "* when a rust script gets compiled and executed only the code inside the `main` function is called\n",
    "  * any functions defined outside but not called in main remain unused\n",
    "  * that's why the previous demos all had the operations directly written into the main function \n",
    "\n",
    "Input Arguments and Return Values\n",
    "* the interface takes the input arguments needed for the operations inside the function\n",
    "* in order for functions to change the value of their given arguments, they must borrow \"access rights\" to these variables\n",
    "  * the `&mut var` passes a borrowed, mutable variable to the function\n",
    "  * within the function `*var` dereferences the variable"
   ]
  },
  {
   "cell_type": "code",
   "execution_count": 2,
   "metadata": {
    "vscode": {
     "languageId": "rust"
    }
   },
   "outputs": [
    {
     "name": "stdout",
     "output_type": "stream",
     "text": [
      "value = 29\n",
      "value = 30\n",
      "value = 900\n"
     ]
    },
    {
     "data": {
      "text/plain": [
       "()"
      ]
     },
     "execution_count": 2,
     "metadata": {},
     "output_type": "execute_result"
    }
   ],
   "source": [
    "fn print_value(x: i32)\n",
    "{\n",
    "    println!(\"value = {}\", x);\n",
    "}\n",
    "\n",
    "fn increase_one(x: &mut i32)\n",
    "{\n",
    "    *x += 1;\n",
    "}\n",
    "\n",
    "fn multiply(x: i32, y: i32) -> i32\n",
    "{\n",
    "    let z = x * y;\n",
    "    return z \n",
    "}\n",
    "\n",
    "fn function()\n",
    "{   \n",
    "    let mut x = 29;\n",
    "    print_value(x);\n",
    "\n",
    "    increase_one(&mut x);\n",
    "    print_value(x);\n",
    "\n",
    "    let z = multiply(x, x);\n",
    "    print_value(z);\n",
    "}\n",
    "\n",
    "function()"
   ]
  },
  {
   "cell_type": "markdown",
   "metadata": {},
   "source": [
    "### 7.2 Methods\n",
    "\n",
    "* Object-Oriented Programming (OOP) looks a little different in Rust than C, Python or Java (where methods are declared within the scope of a class)\n",
    "* `struct` can be considered a class methods a are functions that implemented keyword `impl` onto the `struct` but outside of its scope\n",
    "* but like other languages, the keyword `self` allows to access attributes of the class\n",
    "* for the exercise implement a method that measures the length of line between the two 2D points based on the `Point` and `Line` struct from the previous classes \n",
    "\n",
    "Euclidean Distance\n",
    "\n",
    "$d(s,e) = \\sqrt{\\sum^n_{i=1}(s_i - e_i)^2}$\n",
    "\n",
    "where: \n",
    "* $s, e$ are the start and end points\n",
    "* $s_i, e_i$ are the vectors on each dimension\n",
    "* $n$ is the number of dimensions\n",
    "\n",
    "\n",
    "more details on [OOP in Rust](https://stevedonovan.github.io/rust-gentle-intro/object-orientation.html) "
   ]
  },
  {
   "cell_type": "code",
   "execution_count": 3,
   "metadata": {
    "vscode": {
     "languageId": "rust"
    }
   },
   "outputs": [
    {
     "name": "stdout",
     "output_type": "stream",
     "text": [
      "length of my line = 6.324555320336759\n"
     ]
    },
    {
     "data": {
      "text/plain": [
       "()"
      ]
     },
     "execution_count": 3,
     "metadata": {},
     "output_type": "execute_result"
    }
   ],
   "source": [
    "struct Point\n",
    "{\n",
    "    x: f64, \n",
    "    y: f64\n",
    "}\n",
    "\n",
    "struct Line\n",
    "{\n",
    "    start: Point,\n",
    "    end: Point\n",
    "}\n",
    "\n",
    "impl Line\n",
    "{\n",
    "    fn len(&self) -> f64\n",
    "    {\n",
    "        let dx = self.start.x - self.end.x;\n",
    "        let dy = self.start.y - self.end.y;\n",
    "        return (dx*dx+dy*dy).sqrt()\n",
    "    }\n",
    "}\n",
    "\n",
    "\n",
    "fn method_demo()\n",
    "{\n",
    "    let p1 = Point{x: 3.0, y: 4.0};\n",
    "    let p2 = Point{x: 5.0, y: 10.0};\n",
    "    let myline = Line{start: p1, end: p2};\n",
    "    println!(\"length of my line = {}\", myline.len());\n",
    "}\n",
    "\n",
    "method_demo()"
   ]
  },
  {
   "cell_type": "markdown",
   "metadata": {},
   "source": [
    "### 7.3 Closure\n",
    "\n",
    "* in the previous lectures, we have talked about closure in the context of scope\n",
    "* functions, just like values, can stored in and called from a variable, too\n",
    "  * one functions can be passed into anther functions -> strategy pattern or injection\n",
    "* functions can also be written inside the scope (closure) of other functions\n",
    "  * these enclosed function cannot be called from the outside\n",
    "  * we can use a special syntax for this where we assign the function directly to a varaible when we defined it\n",
    "    * for instance: `let plus_one = |x:i32| -> i32 {x+1};`\n",
    "  * `&mut` state must be declared to pass values as mutable \n",
    "  "
   ]
  },
  {
   "cell_type": "code",
   "execution_count": 4,
   "metadata": {
    "vscode": {
     "languageId": "rust"
    }
   },
   "outputs": [
    {
     "name": "stdout",
     "output_type": "stream",
     "text": [
      "hello\n",
      "3 + 2 = 5\n",
      "f = 15\n",
      "6 + 1 = 7\n"
     ]
    },
    {
     "data": {
      "text/plain": [
       "()"
      ]
     },
     "execution_count": 4,
     "metadata": {},
     "output_type": "execute_result"
    }
   ],
   "source": [
    "use std::mem;\n",
    "\n",
    "fn say_hello() {println!(\"hello\");}\n",
    "\n",
    "fn closure_demo()\n",
    "{\n",
    "    // function assigned to variable\n",
    "    let sh = say_hello;\n",
    "    sh();\n",
    "\n",
    "    let plus_one = |x:i32| -> i32 {x+1};\n",
    "    let a = 6;\n",
    "    println!(\"{} + 1 = {}\", a, plus_one(a));\n",
    "\n",
    "    let plus_two = |x|\n",
    "    {\n",
    "        let mut z = x;\n",
    "        z += 2;\n",
    "        return z\n",
    "    };\n",
    "    let b = 3;\n",
    "    println!(\"{} + 2 = {}\", b, plus_two(b));\n",
    "\n",
    "    let plus_three = |x:&mut i32| {* x+=3};\n",
    "    let mut f = 12;\n",
    "    plus_three(&mut f);\n",
    "    println!(\"f = {}\", f);\n",
    "}\n",
    "\n",
    "closure_demo()"
   ]
  },
  {
   "cell_type": "markdown",
   "metadata": {},
   "source": [
    "### 7.4 Higher-Order Functions\n",
    "\n",
    "* the ability of closure allows us more sophisticated interaction of functions\n",
    "* there are 2 type of higher-order functions\n",
    "  1. functions that take functions\n",
    "  * `f(g) = {let x = g();}`\n",
    "  2. functions that return functions (called generators)\n",
    "  * `f() -> g`\n",
    "\n",
    "* to build a generator function, we need to add a signature that specifies a function is returned\n",
    "  *  for instance: `-> impl Fn(u32) -> bool`\n",
    "  * the keyword `move` extends the lifetime of the variable (so it is not permanently consumed)\n",
    "\n",
    "* we can also use built-in methods to feed functions into functions\n",
    "  * a range provides various methods like `.map()` or `.fold()` that apply functions to that range \n",
    "  * they can also be combined through method chaining"
   ]
  },
  {
   "cell_type": "code",
   "execution_count": 5,
   "metadata": {
    "vscode": {
     "languageId": "rust"
    }
   },
   "outputs": [
    {
     "name": "stdout",
     "output_type": "stream",
     "text": [
      "loop sum = 2024\n",
      "func sum = 2024\n"
     ]
    },
    {
     "data": {
      "text/plain": [
       "()"
      ]
     },
     "execution_count": 5,
     "metadata": {},
     "output_type": "execute_result"
    }
   ],
   "source": [
    "fn is_even(x: u32) -> bool\n",
    "{\n",
    "    x % 2 == 0\n",
    "}\n",
    "\n",
    "\n",
    "// generator function\n",
    "fn greater_than(limit: u32)\n",
    "    -> impl Fn(u32) -> bool\n",
    "{\n",
    "    move |y| y > limit\n",
    "}\n",
    "\n",
    "\n",
    "fn sum_of_all_even_squares()\n",
    "{\n",
    "    \n",
    "    let limit = 500;\n",
    "    let mut sum = 0;\n",
    "\n",
    "    let above_limit = |y| y > limit; // closure function\n",
    "    // let above_limit = greater_than(limit); // generator\n",
    "\n",
    "    for i in 0.. { // range without end point is to infinity\n",
    "        let isq = i*i; // square the num\n",
    "        // if isq > limit {break;} // break loop if square greater limit\n",
    "        if above_limit(isq) {break;}\n",
    "        else if is_even(isq) {sum += isq;} // else add square to total \n",
    "    };\n",
    "\n",
    "    println!(\"loop sum = {}\", sum);\n",
    "\n",
    "    let sum2 = (0..) // a range\n",
    "        // map applies a function to values of a range\n",
    "        .map(|x| x*x)\n",
    "        // take_while takes only values from range until given condition\n",
    "        .take_while(|&x| x<limit) \n",
    "        // filter filters given a certain condition\n",
    "        .filter(|x:&u32| is_even(*x))\n",
    "        // fold aggregates range values into single value by given func\n",
    "        .fold(0, |sum, x| sum + x); \n",
    "    \n",
    "    println!(\"func sum = {}\", sum2);\n",
    "}\n",
    "\n",
    "sum_of_all_even_squares()"
   ]
  }
 ],
 "metadata": {
  "kernelspec": {
   "display_name": "Rust",
   "language": "rust",
   "name": "rust"
  },
  "language_info": {
   "codemirror_mode": "rust",
   "file_extension": ".rs",
   "mimetype": "text/rust",
   "name": "Rust",
   "pygment_lexer": "rust",
   "version": ""
  },
  "orig_nbformat": 4
 },
 "nbformat": 4,
 "nbformat_minor": 2
}
