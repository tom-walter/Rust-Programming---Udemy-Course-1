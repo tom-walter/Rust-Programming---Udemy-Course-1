{
 "cells": [
  {
   "cell_type": "markdown",
   "metadata": {},
   "source": [
    "## 9. Lifetime and Memory\n",
    "\n",
    "* Memory Safety is a key selling point of Rust.\n",
    "* Memory Safety is ensured by very tight controls about who can use what and where.\n",
    "* __Ownership__ and __Borrowing__ are unique features to Rust that guarantee memory safety without garbage collectors."
   ]
  },
  {
   "cell_type": "markdown",
   "metadata": {},
   "source": [
    "### 9.1 Ownership\n",
    "\n",
    "What is Ownership? [(source)](https://doc.rust-lang.org/book/ch04-01-what-is-ownership.html)\n",
    "\n",
    "* a set of rules that govern how memory is managed\n",
    "* all programs use a computer’s memory while running\n",
    "* common apporaches to memory management\n",
    "* 1: some languages have garbage collection that looks for no-longer-used memory as the program runs\n",
    "* 2: in other languages, the programmer must explicitly allocate and free the memory\n",
    "  * usually with keywords like `malloc` and `free`\n",
    "* 3: Rust has a system of ownership with a set of rules that the compiler checks\n",
    "  * if any of the rules are violated, the program won’t compile\n",
    "\n",
    "Simple Example\n",
    "* the variable `v` owns the data associated with it\n",
    "  * `let v = vec![1, 2, 3]; `\n",
    "* `v` is on the stack while the data is on the heap\n",
    "* only one variable can have ownership of data / memory used in the heap\n",
    "  * this avoids _race conditions_ during run-time\n",
    "* if the data gets re-assigned the ownership is transfered or \"moved\" \n",
    "  * `let v2 = v;`\n",
    "* trying to access the data / heap through the old variable will cause an error\n",
    "  * `[E0382] Error: borrow of moved value: 'v'`\n",
    "\n",
    "<p align=\"center\"><img src=\"ownership.png\" style=\"width:600px;height400px;\"></p>\n",
    "\n",
    "* this kind of copying will work primitiv types like integers, floats, chars, & booleans\n",
    "\n",
    "Re-assignment\n",
    "* if re-assignment of primitive type, it is a COPY operation\n",
    "  * to put a primitive on the heap, put it in a `Box::new()`\n",
    "* if re-assignment is NOT a primitive,\n",
    "  * then by default it is a MOVE operation\n",
    "  * unless the data type implements the COPY trait  "
   ]
  },
  {
   "cell_type": "code",
   "execution_count": 2,
   "metadata": {
    "vscode": {
     "languageId": "rust"
    }
   },
   "outputs": [],
   "source": [
    "// \"v\" owns the data associated with it; \"v\" is on the stack while the data is on the heap\n",
    "let v = vec![1, 2, 3]; \n",
    "// only one variable can have ownership over the data\n",
    "let v2 = v;\n",
    "// [E0382] Error: borrow of moved value: `v`\n",
    "//println!(\"{:?}\", v)"
   ]
  },
  {
   "cell_type": "markdown",
   "metadata": {},
   "source": [
    "### 9.2 Borrowing\n",
    "\n",
    "Intro\n",
    "* __ownership__ is one main feature that guarantees memory safety in Rust\n",
    "* to extend operability on variables and maintain memory safety, __borrowing__ is another key feature\n",
    "\n",
    "What is Borrowing? [(source)](https://doc.rust-lang.org/book/ch04-02-references-and-borrowing.html)\n",
    "* if a variable is passed to a function or closure, then it is consumed (used  and taken out of memory)\n",
    "* while it is possible to return variables from functions / closures, _borrowing_ is the better approach\n",
    "* borrowing is done by providing a _reference_ to variable\n",
    "* a reference `&` is \n",
    "  * like a pointer, as it can follow the memory address and access the data\n",
    "  * unlike a pointer, because it guarantees a valid values for life of the reference\n",
    "* accessing the referenced data is done with `*` before the \n",
    "  * there can be multiple references to a resource\n",
    "  * BUT only one mutable reference (prevent race conditions)\n",
    "  * thus, the borrow has to match the im/mutability of the original\n",
    "  "
   ]
  },
  {
   "cell_type": "code",
   "execution_count": 3,
   "metadata": {
    "vscode": {
     "languageId": "rust"
    }
   },
   "outputs": [
    {
     "name": "stdout",
     "output_type": "stream",
     "text": [
      "a = 38\n"
     ]
    }
   ],
   "source": [
    "let mut a = 40;\n",
    "{\n",
    "    let b = &mut a; // b is a mutable reference to a\n",
    "    *b -= 2;  // data can be accessed by * \n",
    "}\n",
    "// b only exists closure and its referencing/accessing ends with the clorsure\n",
    "// error: if b would not relinquish control over a \n",
    "println!(\"a = {}\", a);"
   ]
  },
  {
   "cell_type": "code",
   "execution_count": 4,
   "metadata": {
    "vscode": {
     "languageId": "rust"
    }
   },
   "outputs": [
    {
     "name": "stdout",
     "output_type": "stream",
     "text": [
      "vec=[3, 4, 5]\n"
     ]
    },
    {
     "data": {
      "text/plain": [
       "()"
      ]
     },
     "execution_count": 4,
     "metadata": {},
     "output_type": "execute_result"
    }
   ],
   "source": [
    "fn return_demo(){\n",
    "// closure function with return\n",
    "    let print_vec = |x:Vec<i32>| -> Vec<i32>{\n",
    "        println!(\"vec={:?}\", x);\n",
    "        return x\n",
    "    };\n",
    "\n",
    "    let v = vec![3, 4, 5];\n",
    "    print_vec(v);\n",
    "}\n",
    "return_demo()"
   ]
  },
  {
   "cell_type": "code",
   "execution_count": 5,
   "metadata": {
    "vscode": {
     "languageId": "rust"
    }
   },
   "outputs": [
    {
     "name": "stdout",
     "output_type": "stream",
     "text": [
      "vec=[3, 4, 5]\n"
     ]
    },
    {
     "data": {
      "text/plain": [
       "()"
      ]
     },
     "execution_count": 5,
     "metadata": {},
     "output_type": "execute_result"
    }
   ],
   "source": [
    "fn borrow_demo(){\n",
    "// closure function with reference\n",
    "    let print_vec = |x:&Vec<i32>|{\n",
    "        println!(\"vec={:?}\", x);\n",
    "    };\n",
    "\n",
    "    let v = vec![3, 4, 5];\n",
    "    print_vec(&v);\n",
    "}\n",
    "\n",
    "borrow_demo()"
   ]
  },
  {
   "cell_type": "markdown",
   "metadata": {},
   "source": [
    "### 9.3 Lifetime\n",
    "\n",
    "* __lifetime__ defines how long a variable will live during execution\n",
    "  * the lifetime is given to a variable by an `'`\n",
    "  * `'static` means the variables lives as long as the program itself\n",
    "  * `<'z>` can be used to build a generic lifetime\n",
    "* example of why this is useful\n",
    "  * if one struct `Company` calls on another struct `Person`, then `Person` must exist as long as `Company` exists in the code\n",
    "  * Rust will not let you compile code where `Person` would disappear before `Company` \n",
    "  * if you try, you'll get an error `[E0106] Error: missing lifetime specifier`\n",
    "\n",
    "<p align=\"center\"><img src=\"lifetime_error.png\" style=\"width:400px;heigh300px;\"></p>\n"
   ]
  },
  {
   "cell_type": "code",
   "execution_count": 6,
   "metadata": {
    "vscode": {
     "languageId": "rust"
    }
   },
   "outputs": [
    {
     "name": "stdout",
     "output_type": "stream",
     "text": [
      "Company = Company { name: \"Tesla\", ceo: Person { name: \"Elon Musk\" } }\n"
     ]
    },
    {
     "data": {
      "text/plain": [
       "()"
      ]
     },
     "execution_count": 6,
     "metadata": {},
     "output_type": "execute_result"
    }
   ],
   "source": [
    "use std::fmt::Debug;\n",
    "\n",
    "#[derive(Debug)]\n",
    "struct Person{ name: String }\n",
    "\n",
    "#[derive(Debug)]\n",
    "struct Company<'z>{\n",
    "    name: String,\n",
    "    ceo: &'z Person\n",
    "}\n",
    "\n",
    "fn lifetime_demo(){\n",
    "    let boss = Person{name: String::from(\"Elon Musk\")};\n",
    "    let tesla = Company{name: String::from(\"Tesla\"), ceo: &boss};\n",
    "    println!(\"Company = {:?}\", tesla)\n",
    "}\n",
    "\n",
    "lifetime_demo()"
   ]
  },
  {
   "cell_type": "markdown",
   "metadata": {},
   "source": [
    "### 9.4 Lifetime in Structure Implementation\n",
    "\n",
    "* using variable lifetimes with generics and passing them to functions\n",
    "* a `str` type (=string slice) always needs a lifetime\n",
    "* in order to use variable with certain lifetimes from `struct` in an `impl`ementation, it also needs to \"inherit\" the same lifetime"
   ]
  },
  {
   "cell_type": "code",
   "execution_count": 7,
   "metadata": {
    "vscode": {
     "languageId": "rust"
    }
   },
   "outputs": [
    {
     "name": "stdout",
     "output_type": "stream",
     "text": [
      "Hi, my name is Tom.\n"
     ]
    }
   ],
   "source": [
    "struct Human<'a>\n",
    "{\n",
    "    name: &'a str\n",
    "}\n",
    "\n",
    "impl<'a> Human<'a>\n",
    "{\n",
    "    fn talk(&self){\n",
    "        println!(\"Hi, my name is {}.\", self.name);\n",
    "    }\n",
    "}\n",
    "\n",
    "\n",
    "let h = Human{name: \"Tom\"};\n",
    "h.talk();"
   ]
  },
  {
   "cell_type": "markdown",
   "metadata": {},
   "source": [
    "### 9.5 Reference-Counted Variables (Rc)\n",
    "\n",
    "* the guarantees for memory safety require a Rust developer to always consider ownership and borrowing\n",
    "* but there is another way of handing around variables in your code\n",
    "* the standard library `std::rc:Rc` helps that\n",
    "  * it keeps count (under the hood) where a variable is referenced\n",
    "  * when the counter goes down to zero, then variable is removed "
   ]
  },
  {
   "cell_type": "code",
   "execution_count": 8,
   "metadata": {
    "vscode": {
     "languageId": "rust"
    }
   },
   "outputs": [
    {
     "name": "stdout",
     "output_type": "stream",
     "text": [
      "Num of Strong pointers to my 'obj' = 3\n"
     ]
    },
    {
     "data": {
      "text/plain": [
       "()"
      ]
     },
     "execution_count": 8,
     "metadata": {},
     "output_type": "execute_result"
    }
   ],
   "source": [
    "use std::rc::Rc;\n",
    "\n",
    "let obj0 = Rc::new(\"Object\".to_string());\n",
    "let obj1 = obj0.clone();\n",
    "let obj2 = obj0.clone();\n",
    "println!(\"Num of Strong pointers to my 'obj' = {}\", Rc::strong_count(&obj0))"
   ]
  },
  {
   "cell_type": "code",
   "execution_count": 9,
   "metadata": {
    "vscode": {
     "languageId": "rust"
    }
   },
   "outputs": [
    {
     "name": "stdout",
     "output_type": "stream",
     "text": [
      "Hi, my name is Tom.\n",
      "name: Tom\n"
     ]
    },
    {
     "data": {
      "text/plain": [
       "()"
      ]
     },
     "execution_count": 9,
     "metadata": {},
     "output_type": "execute_result"
    }
   ],
   "source": [
    "use std::rc::Rc;\n",
    "\n",
    "#[derive(Debug)]\n",
    "struct Person{ name: String }\n",
    "\n",
    "impl Person\n",
    "{\n",
    "    fn new(name: String) -> Person{\n",
    "        Person {name: name}\n",
    "    }\n",
    "    fn greet(&self){\n",
    "        println!(\"Hi, my name is {}.\", self.name)\n",
    "    }\n",
    "}\n",
    "\n",
    "fn rc_demo()\n",
    "{\n",
    "    let name = Rc::new(\"Tom\".to_string());\n",
    "    let person = Person::new(name.to_string().clone());\n",
    "    person.greet();\n",
    "    println!(\"name: {}\", name.clone())\n",
    "}\n",
    "\n",
    "rc_demo()"
   ]
  },
  {
   "cell_type": "markdown",
   "metadata": {},
   "source": [
    "### 9.6 Atomic Reference-Counted Variables (Arc)\n",
    "\n",
    "* `Rc` variables are not safe to pass between different threads \n",
    "  * because parallel threads reference the same data in memory is not safe\n",
    "* to safely pass variables between threads use _atomic reference counted_ from `std::sync::Arc`\n",
    "  * it keeps count (under the hood) and queues where and where a variable used\n",
    "  * `Arc` does not protect against concurrent access however (see next section)"
   ]
  },
  {
   "cell_type": "code",
   "execution_count": 10,
   "metadata": {
    "vscode": {
     "languageId": "rust"
    }
   },
   "outputs": [
    {
     "name": "stdout",
     "output_type": "stream",
     "text": [
      "name: Tom\n",
      "Hi, my name is Tom.\n"
     ]
    },
    {
     "data": {
      "text/plain": [
       "()"
      ]
     },
     "execution_count": 10,
     "metadata": {},
     "output_type": "execute_result"
    }
   ],
   "source": [
    "use std::sync::Arc;\n",
    "use std::thread;\n",
    "\n",
    "fn arc_demo()\n",
    "{\n",
    "    let name = Arc::new(\"Tom\".to_string());\n",
    "    let person = Person::new(name.to_string().clone());\n",
    "\n",
    "    let t = thread::spawn(move || {\n",
    "        person.greet();\n",
    "    }\n",
    "    );\n",
    "    \n",
    "    println!(\"name: {}\", name.clone());\n",
    "    t.join().unwrap();\n",
    "}\n",
    "\n",
    "arc_demo()"
   ]
  },
  {
   "cell_type": "markdown",
   "metadata": {},
   "source": [
    "### 9.7 Using a Mutex for Thread-Safety Mutability\n",
    "\n",
    "* `Arc` does not protect against concurrent access through multiple threads\n",
    "* keyword `mutex` means mutually exclusive and prevents threads from simultaneously modifying the data in memory \n",
    "  * only one at a time can do it _.lock()_ing the variable to the thread "
   ]
  },
  {
   "cell_type": "code",
   "execution_count": 11,
   "metadata": {
    "vscode": {
     "languageId": "rust"
    }
   },
   "outputs": [
    {
     "name": "stdout",
     "output_type": "stream",
     "text": [
      "0: Mutex { data: <locked>, poisoned: false, .. }\n",
      "1: 5\n",
      "2: 6\n"
     ]
    },
    {
     "data": {
      "text/plain": [
       "()"
      ]
     },
     "execution_count": 11,
     "metadata": {},
     "output_type": "execute_result"
    }
   ],
   "source": [
    "use std::sync::Mutex;\n",
    "\n",
    "fn mutex_num() {\n",
    "    let my_mutex = Mutex::new(5); // A new Mutex<i32>. We don't need to say mut\n",
    "    let mut mutex_changer = my_mutex.lock().unwrap(); // mutex_changer is a MutexGuard\n",
    "                                                     // It has to be mut because we will change it\n",
    "                                                     // Now it has access to the Mutex\n",
    "                                                     // Let's print my_mutex to see:\n",
    "\n",
    "    println!(\"0: {:?}\", my_mutex); // This prints \"Mutex { data: <locked> }\"\n",
    "                                // So we can't access the data with my_mutex now,\n",
    "                                // only with mutex_changer\n",
    "\n",
    "    println!(\"1: {:?}\", mutex_changer); // This prints 5. Let's change it to 6.\n",
    "\n",
    "    *mutex_changer = 6; // mutex_changer is a MutexGuard<i32> so we use * to change the i32\n",
    "\n",
    "    println!(\"2: {:?}\", mutex_changer); // Now it says 6\n",
    "}\n",
    "\n",
    "mutex_num()"
   ]
  },
  {
   "cell_type": "code",
   "execution_count": null,
   "metadata": {
    "vscode": {
     "languageId": "rust"
    }
   },
   "outputs": [],
   "source": [
    "use std::sync::{Arc, Mutex};\n",
    "\n",
    "#[derive(Debug)]\n",
    "struct Person{\n",
    "    name: Arc<String>,\n",
    "    state: Arc<Mutex<String>>\n",
    "}\n",
    "\n",
    "impl Person\n",
    "{\n",
    "    fn new(name: Arc<String>, state: Arc<Mutex<String>>) -> Person{\n",
    "        Person {name: name, state: state}\n",
    "    }\n",
    "    fn greet(&self){\n",
    "        let mut state = self.state.lock().unwrap();\n",
    "        state.clear();\n",
    "        state.push_str(\"excited\");\n",
    "\n",
    "        println!(\"Hi, my name is {}. I feel {}\", self.name, state.as_str())        \n",
    "    }\n",
    "}\n",
    "\n",
    "\n",
    "fn mutex_demo()\n",
    "{\n",
    "    let name = Arc::new(\"Tom\".to_string());\n",
    "    let state = Arc::new(Mutex::new(\"bored\".to_string()));\n",
    "    let person = Person::new(name.clone(), state.clone());\n",
    "\n",
    "    let t = thread::spawn(move || {\n",
    "        person.greet();\n",
    "    }\n",
    "    );\n",
    "    \n",
    "    println!(\"name: {}, state: {}\", name.clone(), state.lock().unwrap());\n",
    "    t.join().unwrap();\n",
    "}\n",
    "\n",
    "mutex_demo()"
   ]
  }
 ],
 "metadata": {
  "kernelspec": {
   "display_name": "Rust",
   "language": "rust",
   "name": "rust"
  },
  "language_info": {
   "codemirror_mode": "rust",
   "file_extension": ".rs",
   "mimetype": "text/rust",
   "name": "Rust",
   "pygment_lexer": "rust",
   "version": ""
  },
  "orig_nbformat": 4
 },
 "nbformat": 4,
 "nbformat_minor": 2
}
