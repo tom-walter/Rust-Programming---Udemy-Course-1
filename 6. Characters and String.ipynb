{
 "cells": [
  {
   "cell_type": "markdown",
   "metadata": {},
   "source": [
    "## 6. Characters and Strings\n",
    "### 6.1 Strings\n",
    "\n",
    "* we have already used strings and string formatting without going into the details\n",
    "* there are two different string types\n",
    "1. Static `str` slice \n",
    "  * `&str` or `&'static str` is a string slice\n",
    "  * this is an immutable string (utf-8)\n",
    "  * get a sequence of characters with `s.chars()`\n",
    "  * can be regarded as a view into a string, but is very inflexible \n",
    "2. `String` vector\n",
    "  * is a heap-allocated construct `Vec<u8>`\n",
    "  * this is a mutable string (utf-8)\n",
    "  * works like a vector and can be amended\n",
    "\n",
    "More Operations\n",
    "  * a static `str` can be convered to a `String` vector\n",
    "  * concatenation of both types is possible, respecting the conversion\n",
    "\n",
    "Note\n",
    "  * the macro `println!` does not flush after each line, which can lead to printouts not being in the order in which the code is executed (see [here](https://stackoverflow.com/questions/49607156/print-macro-gets-executed-out-of-order))"
   ]
  },
  {
   "cell_type": "code",
   "execution_count": 13,
   "metadata": {
    "vscode": {
     "languageId": "rust"
    }
   },
   "outputs": [
    {
     "name": "stdout",
     "output_type": "stream",
     "text": [
      "h\n",
      "t\n",
      "h\n",
      "r\n",
      "e\n",
      "!\n",
      "first letter is h\n",
      "i\n",
      "e\n",
      " \n"
     ]
    },
    {
     "data": {
      "text/plain": [
       "()"
      ]
     },
     "execution_count": 13,
     "metadata": {},
     "output_type": "execute_result"
    }
   ],
   "source": [
    "fn static_string_demo(){\n",
    "    // a slice that always points to a valid UTF-8 sequence\n",
    "    let s: &'static str = \"hi there!\"; \n",
    "    // &'static str -> statically allocated (part of the program)\n",
    "    // s = \"bar\"; // cannot reassign immutable\n",
    "    //let a = s[0]; // cannot index\n",
    "\n",
    "    for c in s.chars()// can also reversed! also as_bytes()\n",
    "    {\n",
    "        println!(\"{}\", c);\n",
    "    }\n",
    "\n",
    "    if let Some(first_char) = s.chars().nth(0) {\n",
    "        println!(\"first letter is {}\", first_char)\n",
    "    }\n",
    "}\n",
    "\n",
    "static_string_demo()"
   ]
  },
  {
   "cell_type": "code",
   "execution_count": 4,
   "metadata": {
    "vscode": {
     "languageId": "rust"
    }
   },
   "outputs": [
    {
     "name": "stdout",
     "output_type": "stream",
     "text": [
      "a,b,c,d,e,f,g,h,i,j,k,l,m,n,o,p,q,r,s,t,u,v,w,x,y,z,\n",
      "ello world!!!, goodbye world!!!\n"
     ]
    },
    {
     "data": {
      "text/plain": [
       "()"
      ]
     },
     "execution_count": 4,
     "metadata": {},
     "output_type": "execute_result"
    }
   ],
   "source": [
    "fn heap_string_demo(){\n",
    "    // heap allocated construct\n",
    "    // Vec<u8>, guaranteed to be valid UTF-8\n",
    "\n",
    "    let mut letters = String::new();\n",
    "    let mut a = 'a' as u8;\n",
    "    while a <= ('z' as u8) {\n",
    "        letters.push(a as char);\n",
    "        letters.push_str(\",\"); // note the _str\n",
    "        a = a + 1;\n",
    "    }\n",
    "    println!(\"{}\", letters);\n",
    "\n",
    "    // str from String\n",
    "    let u: &str = &letters; // deref conversion\n",
    "\n",
    "    // concatenation\n",
    "    // String + str\n",
    "    // String + &String\n",
    "\n",
    "    // String from str\n",
    "    //let mut abc = String::from(\"hello world\");\n",
    "    let mut abc = \"hello world\".to_string();\n",
    "    abc.remove(0); // removes the 'h'\n",
    "    abc.push_str(\"!!!\");\n",
    "    println!(\"{}, {}\", abc, abc.replace(\"ello\", \"goodbye\"));\n",
    "}\n",
    "\n",
    "heap_string_demo()"
   ]
  },
  {
   "cell_type": "markdown",
   "metadata": {},
   "source": [
    "### 6.2 String Formatting\n",
    "\n",
    "* the macro `format!` help glue together variables into a string\n",
    "* it will put the variables into the `{}` in the given order (like positional args)\n",
    "* if the order can also be overwrite, by putting indexes into curly braces\n",
    "  *  zero-indexed\n",
    "* a third to specify, where the variables will be placed is naming\n",
    "  * putting names into `{name}` also works\n",
    "* these methods can be mixed but keeping it consisting is best practice "
   ]
  },
  {
   "cell_type": "code",
   "execution_count": 18,
   "metadata": {
    "vscode": {
     "languageId": "rust"
    }
   },
   "outputs": [
    {
     "name": "stdout",
     "output_type": "stream",
     "text": [
      "hi Tom, welcome to Rust!\n",
      "run, forest, run!\n",
      "the name's bond. james bond.\n"
     ]
    },
    {
     "data": {
      "text/plain": [
       "()"
      ]
     },
     "execution_count": 18,
     "metadata": {},
     "output_type": "execute_result"
    }
   ],
   "source": [
    "fn format_demo()\n",
    "{\n",
    "    // positional formatting\n",
    "    let name = \"Tom\";\n",
    "    let prog = \"Rust\";\n",
    "    let greeting = format!(\"hi {}, welcome to {}!\", name, prog);\n",
    "    println!(\"{}\", greeting);\n",
    "    // index-based formatting\n",
    "    let run = \"run\";\n",
    "    let forest = \"forest\";\n",
    "    let forest_gump = format!(\"{0}, {1}, {0}!\", run, forest);\n",
    "    println!(\"{}\", forest_gump);\n",
    "    // name-based formatting\n",
    "    let james_bond = format!(\"the name's {last}. {first} {last}.\", first=\"james\", last=\"bond\");\n",
    "    println!(\"{}\", james_bond);\n",
    "}\n",
    "\n",
    "format_demo()"
   ]
  },
  {
   "cell_type": "markdown",
   "metadata": {},
   "source": [
    "### 6.3 Number Guessing Game\n",
    "\n",
    "* the number guessing game (similar to the combination lock game from before) allows us to combine our knowledge on control flows and string process in Rust"
   ]
  },
  {
   "cell_type": "code",
   "execution_count": null,
   "metadata": {
    "vscode": {
     "languageId": "rust"
    }
   },
   "outputs": [],
   "source": [
    "use std::io::stdin;\n",
    "use rand::Rng; // version = \"0.7.3\"\n",
    "\n",
    "\n",
    "fn number_guessing_game()\n",
    "{\n",
    "    // generate a random number between 1 and 100\n",
    "    let number: i64 = rand::thread_rng().gen_range(1, 101); // exlusive\n",
    "\n",
    "    // create the guessing loop\n",
    "    loop {\n",
    "        // ask user for input\n",
    "        println!(\"Enter you guess: \");\n",
    "        // buffer for user input\n",
    "        let mut buffer = String::new();\n",
    "        \n",
    "        match stdin().read_line(&mut buffer)\n",
    "        {\n",
    "            Ok(_) => {\n",
    "                // parse user's number; it should be a number\n",
    "                let parsed = buffer.trim_end().parse::<i64>();\n",
    "                match parsed\n",
    "                {\n",
    "                    Ok(guess) => {\n",
    "                        if guess < 1 || guess > 100 {\n",
    "                            println!(\"Your guess is out of range.\");\n",
    "                        } else if  guess < number {\n",
    "                            println!(\"Your guess is too low.\");\n",
    "                        } else if guess > number {\n",
    "                            println!(\"Your guess is too high.\");\n",
    "                        } else {\n",
    "                            println!(\"Your guess is correct!\");\n",
    "                            break;\n",
    "                        }\n",
    "                    }\n",
    "                    Err(e) => {\n",
    "                        println!(\"Could not read your number: {}. Try again.\", e);\n",
    "                    }\n",
    "                }\n",
    "            }\n",
    "            Err(_) => continue,\n",
    "        }\n",
    "    }\n",
    "}"
   ]
  }
 ],
 "metadata": {
  "kernelspec": {
   "display_name": "Rust",
   "language": "rust",
   "name": "rust"
  },
  "language_info": {
   "codemirror_mode": "rust",
   "file_extension": ".rs",
   "mimetype": "text/rust",
   "name": "Rust",
   "pygment_lexer": "rust",
   "version": ""
  },
  "orig_nbformat": 4
 },
 "nbformat": 4,
 "nbformat_minor": 2
}
